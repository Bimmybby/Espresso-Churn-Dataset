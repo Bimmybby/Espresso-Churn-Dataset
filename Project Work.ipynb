{
 "cells": [
  {
   "cell_type": "code",
   "execution_count": 1,
   "id": "a9a602c2",
   "metadata": {},
   "outputs": [],
   "source": [
    "import pandas as pd\n",
    "import numpy as np\n",
    "import matplotlib.pyplot as plt\n",
    "import seaborn as sns\n",
    "%matplotlib inline"
   ]
  },
  {
   "cell_type": "code",
   "execution_count": 2,
   "id": "637e8f6d",
   "metadata": {},
   "outputs": [],
   "source": [
    "df=pd.read_csv('Train-1.csv')"
   ]
  },
  {
   "cell_type": "markdown",
   "id": "fbb69ae5",
   "metadata": {},
   "source": [
    "# DATA DEFINITION AND EXPLORATION"
   ]
  },
  {
   "cell_type": "code",
   "execution_count": 3,
   "id": "0881200c",
   "metadata": {},
   "outputs": [
    {
     "data": {
      "text/html": [
       "<div>\n",
       "<style scoped>\n",
       "    .dataframe tbody tr th:only-of-type {\n",
       "        vertical-align: middle;\n",
       "    }\n",
       "\n",
       "    .dataframe tbody tr th {\n",
       "        vertical-align: top;\n",
       "    }\n",
       "\n",
       "    .dataframe thead th {\n",
       "        text-align: right;\n",
       "    }\n",
       "</style>\n",
       "<table border=\"1\" class=\"dataframe\">\n",
       "  <thead>\n",
       "    <tr style=\"text-align: right;\">\n",
       "      <th></th>\n",
       "      <th>user_id</th>\n",
       "      <th>REGION</th>\n",
       "      <th>TENURE</th>\n",
       "      <th>MONTANT</th>\n",
       "      <th>FREQUENCE_RECH</th>\n",
       "      <th>REVENUE</th>\n",
       "      <th>ARPU_SEGMENT</th>\n",
       "      <th>FREQUENCE</th>\n",
       "      <th>DATA_VOLUME</th>\n",
       "      <th>ON_NET</th>\n",
       "      <th>ORANGE</th>\n",
       "      <th>TIGO</th>\n",
       "      <th>ZONE1</th>\n",
       "      <th>ZONE2</th>\n",
       "      <th>MRG</th>\n",
       "      <th>REGULARITY</th>\n",
       "      <th>TOP_PACK</th>\n",
       "      <th>FREQ_TOP_PACK</th>\n",
       "      <th>CHURN</th>\n",
       "    </tr>\n",
       "  </thead>\n",
       "  <tbody>\n",
       "    <tr>\n",
       "      <th>0</th>\n",
       "      <td>dcf68cc2fb515ccad7d8b9b3bd80ee2a4b270063</td>\n",
       "      <td>SAINT-LOUIS</td>\n",
       "      <td>K &gt; 24 month</td>\n",
       "      <td>17000.0</td>\n",
       "      <td>32.0</td>\n",
       "      <td>18000.0</td>\n",
       "      <td>6000.0</td>\n",
       "      <td>34.0</td>\n",
       "      <td>NaN</td>\n",
       "      <td>97.0</td>\n",
       "      <td>355.0</td>\n",
       "      <td>6.0</td>\n",
       "      <td>NaN</td>\n",
       "      <td>NaN</td>\n",
       "      <td>NO</td>\n",
       "      <td>62</td>\n",
       "      <td>All-net 500F=2000F;5d</td>\n",
       "      <td>35.0</td>\n",
       "      <td>0</td>\n",
       "    </tr>\n",
       "    <tr>\n",
       "      <th>1</th>\n",
       "      <td>71c44b5ba328db5c4192a80f7cf8f244d9350ed0</td>\n",
       "      <td>NaN</td>\n",
       "      <td>K &gt; 24 month</td>\n",
       "      <td>4300.0</td>\n",
       "      <td>29.0</td>\n",
       "      <td>4427.0</td>\n",
       "      <td>1476.0</td>\n",
       "      <td>37.0</td>\n",
       "      <td>1764.0</td>\n",
       "      <td>8.0</td>\n",
       "      <td>3.0</td>\n",
       "      <td>0.0</td>\n",
       "      <td>NaN</td>\n",
       "      <td>2.0</td>\n",
       "      <td>NO</td>\n",
       "      <td>40</td>\n",
       "      <td>Data: 100 F=40MB,24H</td>\n",
       "      <td>22.0</td>\n",
       "      <td>0</td>\n",
       "    </tr>\n",
       "    <tr>\n",
       "      <th>2</th>\n",
       "      <td>ce46411b1526c94f20a383b8cb188f8d27f82a0a</td>\n",
       "      <td>TAMBACOUNDA</td>\n",
       "      <td>K &gt; 24 month</td>\n",
       "      <td>1500.0</td>\n",
       "      <td>3.0</td>\n",
       "      <td>1500.0</td>\n",
       "      <td>500.0</td>\n",
       "      <td>3.0</td>\n",
       "      <td>NaN</td>\n",
       "      <td>30.0</td>\n",
       "      <td>30.0</td>\n",
       "      <td>NaN</td>\n",
       "      <td>NaN</td>\n",
       "      <td>NaN</td>\n",
       "      <td>NO</td>\n",
       "      <td>32</td>\n",
       "      <td>All-net 500F=2000F;5d</td>\n",
       "      <td>3.0</td>\n",
       "      <td>0</td>\n",
       "    </tr>\n",
       "    <tr>\n",
       "      <th>3</th>\n",
       "      <td>f467cdb6669818373c26c2bad44e01ba66f97d21</td>\n",
       "      <td>FATICK</td>\n",
       "      <td>K &gt; 24 month</td>\n",
       "      <td>1500.0</td>\n",
       "      <td>3.0</td>\n",
       "      <td>2497.0</td>\n",
       "      <td>832.0</td>\n",
       "      <td>4.0</td>\n",
       "      <td>0.0</td>\n",
       "      <td>159.0</td>\n",
       "      <td>45.0</td>\n",
       "      <td>19.0</td>\n",
       "      <td>NaN</td>\n",
       "      <td>NaN</td>\n",
       "      <td>NO</td>\n",
       "      <td>18</td>\n",
       "      <td>On net 200F=Unlimited _call24H</td>\n",
       "      <td>3.0</td>\n",
       "      <td>0</td>\n",
       "    </tr>\n",
       "    <tr>\n",
       "      <th>4</th>\n",
       "      <td>ec45e1a1888a32b5dcce0954cfec20c6e037db31</td>\n",
       "      <td>FATICK</td>\n",
       "      <td>K &gt; 24 month</td>\n",
       "      <td>NaN</td>\n",
       "      <td>NaN</td>\n",
       "      <td>498.0</td>\n",
       "      <td>166.0</td>\n",
       "      <td>3.0</td>\n",
       "      <td>1.0</td>\n",
       "      <td>1.0</td>\n",
       "      <td>3.0</td>\n",
       "      <td>NaN</td>\n",
       "      <td>NaN</td>\n",
       "      <td>NaN</td>\n",
       "      <td>NO</td>\n",
       "      <td>50</td>\n",
       "      <td>NaN</td>\n",
       "      <td>NaN</td>\n",
       "      <td>0</td>\n",
       "    </tr>\n",
       "  </tbody>\n",
       "</table>\n",
       "</div>"
      ],
      "text/plain": [
       "                                    user_id       REGION        TENURE  \\\n",
       "0  dcf68cc2fb515ccad7d8b9b3bd80ee2a4b270063  SAINT-LOUIS  K > 24 month   \n",
       "1  71c44b5ba328db5c4192a80f7cf8f244d9350ed0          NaN  K > 24 month   \n",
       "2  ce46411b1526c94f20a383b8cb188f8d27f82a0a  TAMBACOUNDA  K > 24 month   \n",
       "3  f467cdb6669818373c26c2bad44e01ba66f97d21       FATICK  K > 24 month   \n",
       "4  ec45e1a1888a32b5dcce0954cfec20c6e037db31       FATICK  K > 24 month   \n",
       "\n",
       "   MONTANT  FREQUENCE_RECH  REVENUE  ARPU_SEGMENT  FREQUENCE  DATA_VOLUME  \\\n",
       "0  17000.0            32.0  18000.0        6000.0       34.0          NaN   \n",
       "1   4300.0            29.0   4427.0        1476.0       37.0       1764.0   \n",
       "2   1500.0             3.0   1500.0         500.0        3.0          NaN   \n",
       "3   1500.0             3.0   2497.0         832.0        4.0          0.0   \n",
       "4      NaN             NaN    498.0         166.0        3.0          1.0   \n",
       "\n",
       "   ON_NET  ORANGE  TIGO  ZONE1  ZONE2 MRG  REGULARITY  \\\n",
       "0    97.0   355.0   6.0    NaN    NaN  NO          62   \n",
       "1     8.0     3.0   0.0    NaN    2.0  NO          40   \n",
       "2    30.0    30.0   NaN    NaN    NaN  NO          32   \n",
       "3   159.0    45.0  19.0    NaN    NaN  NO          18   \n",
       "4     1.0     3.0   NaN    NaN    NaN  NO          50   \n",
       "\n",
       "                         TOP_PACK  FREQ_TOP_PACK  CHURN  \n",
       "0           All-net 500F=2000F;5d           35.0      0  \n",
       "1            Data: 100 F=40MB,24H           22.0      0  \n",
       "2           All-net 500F=2000F;5d            3.0      0  \n",
       "3  On net 200F=Unlimited _call24H            3.0      0  \n",
       "4                             NaN            NaN      0  "
      ]
     },
     "execution_count": 3,
     "metadata": {},
     "output_type": "execute_result"
    }
   ],
   "source": [
    "df.head()"
   ]
  },
  {
   "cell_type": "code",
   "execution_count": 4,
   "id": "afdbd7e5",
   "metadata": {},
   "outputs": [],
   "source": [
    "# The data describes 400,000 Expresso clients.\n",
    "\n",
    "# espresso is an african telecommunication company that provides customers with airtime and mobile data bundles.\n",
    "# The objective of this data is to develop a predictive model \n",
    "# that determines the likelihood for a customer to churn \n",
    "# to stop purchasing airtime and data from Expresso."
   ]
  },
  {
   "cell_type": "code",
   "execution_count": 5,
   "id": "7727713b",
   "metadata": {},
   "outputs": [],
   "source": [
    "# Variable Definitions\t\n",
    "# \tEnglish\n",
    "# \tThe churn dataset includes 19 variables including 15 numeric variables and 04 categorical variables.\n",
    "# user_id\t\n",
    "# REGION\tthe location of each client\n",
    "# TENURE\t duration in the network\n",
    "# MONTANT\ttop-up amount\n",
    "# FREQUENCE_RECH\tÂ number of times the customer refilled\n",
    "# REVENUE\tmonthly income of each client\n",
    "# ARPU_SEGMENT\tincome over 90 days / 3\n",
    "# FREQUENCE\tnumber of times the client has made an income\n",
    "# DATA_VOLUME\tnumber of connections\n",
    "# ON_NET\tinter expresso call\n",
    "# ORANGE\tcall to orange\n",
    "# TIGO\tcall to Tigo\n",
    "# ZONE1\tcall to zones1\n",
    "# ZONE2\tcall to zones2\n",
    "# MRG\ta client who is going\n",
    "# REGULARITY\t number of times the client is active for 90 days\n",
    "# TOP_PACK\t the most active packs\n",
    "# FREQ_TOP_PACK\t number of times the client has activated the top pack packages\n",
    "# CHURN\t variable to predict - Target\n"
   ]
  },
  {
   "cell_type": "code",
   "execution_count": 6,
   "id": "a65b2966",
   "metadata": {},
   "outputs": [
    {
     "data": {
      "text/plain": [
       "(400000, 19)"
      ]
     },
     "execution_count": 6,
     "metadata": {},
     "output_type": "execute_result"
    }
   ],
   "source": [
    "df.shape"
   ]
  },
  {
   "cell_type": "code",
   "execution_count": 7,
   "id": "08f9dd9b",
   "metadata": {},
   "outputs": [
    {
     "name": "stdout",
     "output_type": "stream",
     "text": [
      "<class 'pandas.core.frame.DataFrame'>\n",
      "RangeIndex: 400000 entries, 0 to 399999\n",
      "Data columns (total 19 columns):\n",
      " #   Column          Non-Null Count   Dtype  \n",
      "---  ------          --------------   -----  \n",
      " 0   user_id         400000 non-null  object \n",
      " 1   REGION          242480 non-null  object \n",
      " 2   TENURE          400000 non-null  object \n",
      " 3   MONTANT         259723 non-null  float64\n",
      " 4   FREQUENCE_RECH  259723 non-null  float64\n",
      " 5   REVENUE         265337 non-null  float64\n",
      " 6   ARPU_SEGMENT    265337 non-null  float64\n",
      " 7   FREQUENCE       265337 non-null  float64\n",
      " 8   DATA_VOLUME     203146 non-null  float64\n",
      " 9   ON_NET          254181 non-null  float64\n",
      " 10  ORANGE          233683 non-null  float64\n",
      " 11  TIGO            160614 non-null  float64\n",
      " 12  ZONE1           31690 non-null   float64\n",
      " 13  ZONE2           25513 non-null   float64\n",
      " 14  MRG             400000 non-null  object \n",
      " 15  REGULARITY      400000 non-null  int64  \n",
      " 16  TOP_PACK        232671 non-null  object \n",
      " 17  FREQ_TOP_PACK   232671 non-null  float64\n",
      " 18  CHURN           400000 non-null  int64  \n",
      "dtypes: float64(12), int64(2), object(5)\n",
      "memory usage: 58.0+ MB\n"
     ]
    }
   ],
   "source": [
    "df.info()"
   ]
  },
  {
   "cell_type": "code",
   "execution_count": 8,
   "id": "f5b807bd",
   "metadata": {},
   "outputs": [
    {
     "data": {
      "text/html": [
       "<div>\n",
       "<style scoped>\n",
       "    .dataframe tbody tr th:only-of-type {\n",
       "        vertical-align: middle;\n",
       "    }\n",
       "\n",
       "    .dataframe tbody tr th {\n",
       "        vertical-align: top;\n",
       "    }\n",
       "\n",
       "    .dataframe thead th {\n",
       "        text-align: right;\n",
       "    }\n",
       "</style>\n",
       "<table border=\"1\" class=\"dataframe\">\n",
       "  <thead>\n",
       "    <tr style=\"text-align: right;\">\n",
       "      <th></th>\n",
       "      <th>MONTANT</th>\n",
       "      <th>FREQUENCE_RECH</th>\n",
       "      <th>REVENUE</th>\n",
       "      <th>ARPU_SEGMENT</th>\n",
       "      <th>FREQUENCE</th>\n",
       "      <th>DATA_VOLUME</th>\n",
       "      <th>ON_NET</th>\n",
       "      <th>ORANGE</th>\n",
       "      <th>TIGO</th>\n",
       "      <th>ZONE1</th>\n",
       "      <th>ZONE2</th>\n",
       "      <th>REGULARITY</th>\n",
       "      <th>FREQ_TOP_PACK</th>\n",
       "      <th>CHURN</th>\n",
       "    </tr>\n",
       "  </thead>\n",
       "  <tbody>\n",
       "    <tr>\n",
       "      <th>count</th>\n",
       "      <td>259723.000000</td>\n",
       "      <td>259723.000000</td>\n",
       "      <td>265337.000000</td>\n",
       "      <td>265337.000000</td>\n",
       "      <td>265337.000000</td>\n",
       "      <td>203146.000000</td>\n",
       "      <td>254181.000000</td>\n",
       "      <td>233683.000000</td>\n",
       "      <td>160614.000000</td>\n",
       "      <td>31690.000000</td>\n",
       "      <td>25513.000000</td>\n",
       "      <td>400000.000000</td>\n",
       "      <td>232671.000000</td>\n",
       "      <td>400000.00000</td>\n",
       "    </tr>\n",
       "    <tr>\n",
       "      <th>mean</th>\n",
       "      <td>5522.971346</td>\n",
       "      <td>11.503733</td>\n",
       "      <td>5505.487757</td>\n",
       "      <td>1835.167658</td>\n",
       "      <td>13.951835</td>\n",
       "      <td>3369.763441</td>\n",
       "      <td>275.917586</td>\n",
       "      <td>95.532927</td>\n",
       "      <td>23.134608</td>\n",
       "      <td>7.874282</td>\n",
       "      <td>7.187003</td>\n",
       "      <td>28.046502</td>\n",
       "      <td>9.254209</td>\n",
       "      <td>0.18711</td>\n",
       "    </tr>\n",
       "    <tr>\n",
       "      <th>std</th>\n",
       "      <td>7099.640630</td>\n",
       "      <td>13.275514</td>\n",
       "      <td>7175.802367</td>\n",
       "      <td>2391.929290</td>\n",
       "      <td>14.679943</td>\n",
       "      <td>12281.867504</td>\n",
       "      <td>873.593034</td>\n",
       "      <td>204.733272</td>\n",
       "      <td>63.061871</td>\n",
       "      <td>35.642843</td>\n",
       "      <td>26.964028</td>\n",
       "      <td>22.282773</td>\n",
       "      <td>12.305563</td>\n",
       "      <td>0.39000</td>\n",
       "    </tr>\n",
       "    <tr>\n",
       "      <th>min</th>\n",
       "      <td>20.000000</td>\n",
       "      <td>1.000000</td>\n",
       "      <td>1.000000</td>\n",
       "      <td>0.000000</td>\n",
       "      <td>1.000000</td>\n",
       "      <td>0.000000</td>\n",
       "      <td>0.000000</td>\n",
       "      <td>0.000000</td>\n",
       "      <td>0.000000</td>\n",
       "      <td>0.000000</td>\n",
       "      <td>0.000000</td>\n",
       "      <td>1.000000</td>\n",
       "      <td>1.000000</td>\n",
       "      <td>0.00000</td>\n",
       "    </tr>\n",
       "    <tr>\n",
       "      <th>25%</th>\n",
       "      <td>1000.000000</td>\n",
       "      <td>2.000000</td>\n",
       "      <td>1000.000000</td>\n",
       "      <td>333.000000</td>\n",
       "      <td>3.000000</td>\n",
       "      <td>0.000000</td>\n",
       "      <td>5.000000</td>\n",
       "      <td>7.000000</td>\n",
       "      <td>2.000000</td>\n",
       "      <td>0.000000</td>\n",
       "      <td>0.000000</td>\n",
       "      <td>6.000000</td>\n",
       "      <td>2.000000</td>\n",
       "      <td>0.00000</td>\n",
       "    </tr>\n",
       "    <tr>\n",
       "      <th>50%</th>\n",
       "      <td>3000.000000</td>\n",
       "      <td>6.000000</td>\n",
       "      <td>3000.000000</td>\n",
       "      <td>1000.000000</td>\n",
       "      <td>9.000000</td>\n",
       "      <td>267.000000</td>\n",
       "      <td>27.000000</td>\n",
       "      <td>29.000000</td>\n",
       "      <td>6.000000</td>\n",
       "      <td>1.000000</td>\n",
       "      <td>2.000000</td>\n",
       "      <td>24.000000</td>\n",
       "      <td>5.000000</td>\n",
       "      <td>0.00000</td>\n",
       "    </tr>\n",
       "    <tr>\n",
       "      <th>75%</th>\n",
       "      <td>7300.000000</td>\n",
       "      <td>15.000000</td>\n",
       "      <td>7340.000000</td>\n",
       "      <td>2447.000000</td>\n",
       "      <td>19.000000</td>\n",
       "      <td>2925.000000</td>\n",
       "      <td>155.000000</td>\n",
       "      <td>99.000000</td>\n",
       "      <td>20.000000</td>\n",
       "      <td>3.000000</td>\n",
       "      <td>5.000000</td>\n",
       "      <td>51.000000</td>\n",
       "      <td>12.000000</td>\n",
       "      <td>0.00000</td>\n",
       "    </tr>\n",
       "    <tr>\n",
       "      <th>max</th>\n",
       "      <td>226550.000000</td>\n",
       "      <td>133.000000</td>\n",
       "      <td>233413.000000</td>\n",
       "      <td>77804.000000</td>\n",
       "      <td>91.000000</td>\n",
       "      <td>934576.000000</td>\n",
       "      <td>45011.000000</td>\n",
       "      <td>6788.000000</td>\n",
       "      <td>2758.000000</td>\n",
       "      <td>1657.000000</td>\n",
       "      <td>1011.000000</td>\n",
       "      <td>62.000000</td>\n",
       "      <td>629.000000</td>\n",
       "      <td>1.00000</td>\n",
       "    </tr>\n",
       "  </tbody>\n",
       "</table>\n",
       "</div>"
      ],
      "text/plain": [
       "             MONTANT  FREQUENCE_RECH        REVENUE   ARPU_SEGMENT  \\\n",
       "count  259723.000000   259723.000000  265337.000000  265337.000000   \n",
       "mean     5522.971346       11.503733    5505.487757    1835.167658   \n",
       "std      7099.640630       13.275514    7175.802367    2391.929290   \n",
       "min        20.000000        1.000000       1.000000       0.000000   \n",
       "25%      1000.000000        2.000000    1000.000000     333.000000   \n",
       "50%      3000.000000        6.000000    3000.000000    1000.000000   \n",
       "75%      7300.000000       15.000000    7340.000000    2447.000000   \n",
       "max    226550.000000      133.000000  233413.000000   77804.000000   \n",
       "\n",
       "           FREQUENCE    DATA_VOLUME         ON_NET         ORANGE  \\\n",
       "count  265337.000000  203146.000000  254181.000000  233683.000000   \n",
       "mean       13.951835    3369.763441     275.917586      95.532927   \n",
       "std        14.679943   12281.867504     873.593034     204.733272   \n",
       "min         1.000000       0.000000       0.000000       0.000000   \n",
       "25%         3.000000       0.000000       5.000000       7.000000   \n",
       "50%         9.000000     267.000000      27.000000      29.000000   \n",
       "75%        19.000000    2925.000000     155.000000      99.000000   \n",
       "max        91.000000  934576.000000   45011.000000    6788.000000   \n",
       "\n",
       "                TIGO         ZONE1         ZONE2     REGULARITY  \\\n",
       "count  160614.000000  31690.000000  25513.000000  400000.000000   \n",
       "mean       23.134608      7.874282      7.187003      28.046502   \n",
       "std        63.061871     35.642843     26.964028      22.282773   \n",
       "min         0.000000      0.000000      0.000000       1.000000   \n",
       "25%         2.000000      0.000000      0.000000       6.000000   \n",
       "50%         6.000000      1.000000      2.000000      24.000000   \n",
       "75%        20.000000      3.000000      5.000000      51.000000   \n",
       "max      2758.000000   1657.000000   1011.000000      62.000000   \n",
       "\n",
       "       FREQ_TOP_PACK         CHURN  \n",
       "count  232671.000000  400000.00000  \n",
       "mean        9.254209       0.18711  \n",
       "std        12.305563       0.39000  \n",
       "min         1.000000       0.00000  \n",
       "25%         2.000000       0.00000  \n",
       "50%         5.000000       0.00000  \n",
       "75%        12.000000       0.00000  \n",
       "max       629.000000       1.00000  "
      ]
     },
     "execution_count": 8,
     "metadata": {},
     "output_type": "execute_result"
    }
   ],
   "source": [
    "df.describe()"
   ]
  },
  {
   "cell_type": "code",
   "execution_count": 9,
   "id": "0a1a8e9b",
   "metadata": {},
   "outputs": [
    {
     "data": {
      "text/html": [
       "<div>\n",
       "<style scoped>\n",
       "    .dataframe tbody tr th:only-of-type {\n",
       "        vertical-align: middle;\n",
       "    }\n",
       "\n",
       "    .dataframe tbody tr th {\n",
       "        vertical-align: top;\n",
       "    }\n",
       "\n",
       "    .dataframe thead th {\n",
       "        text-align: right;\n",
       "    }\n",
       "</style>\n",
       "<table border=\"1\" class=\"dataframe\">\n",
       "  <thead>\n",
       "    <tr style=\"text-align: right;\">\n",
       "      <th></th>\n",
       "      <th>MONTANT</th>\n",
       "      <th>FREQUENCE_RECH</th>\n",
       "      <th>REVENUE</th>\n",
       "      <th>ARPU_SEGMENT</th>\n",
       "      <th>FREQUENCE</th>\n",
       "      <th>DATA_VOLUME</th>\n",
       "      <th>ON_NET</th>\n",
       "      <th>ORANGE</th>\n",
       "      <th>TIGO</th>\n",
       "      <th>ZONE1</th>\n",
       "      <th>ZONE2</th>\n",
       "      <th>REGULARITY</th>\n",
       "      <th>FREQ_TOP_PACK</th>\n",
       "      <th>CHURN</th>\n",
       "    </tr>\n",
       "  </thead>\n",
       "  <tbody>\n",
       "    <tr>\n",
       "      <th>MONTANT</th>\n",
       "      <td>1.000000</td>\n",
       "      <td>0.800385</td>\n",
       "      <td>0.979041</td>\n",
       "      <td>0.979041</td>\n",
       "      <td>0.781164</td>\n",
       "      <td>0.308343</td>\n",
       "      <td>0.327857</td>\n",
       "      <td>0.667531</td>\n",
       "      <td>0.427289</td>\n",
       "      <td>0.350551</td>\n",
       "      <td>0.407973</td>\n",
       "      <td>0.524157</td>\n",
       "      <td>0.742406</td>\n",
       "      <td>-0.106229</td>\n",
       "    </tr>\n",
       "    <tr>\n",
       "      <th>FREQUENCE_RECH</th>\n",
       "      <td>0.800385</td>\n",
       "      <td>1.000000</td>\n",
       "      <td>0.807405</td>\n",
       "      <td>0.807405</td>\n",
       "      <td>0.956262</td>\n",
       "      <td>0.165226</td>\n",
       "      <td>0.402383</td>\n",
       "      <td>0.522649</td>\n",
       "      <td>0.348092</td>\n",
       "      <td>0.126573</td>\n",
       "      <td>0.160979</td>\n",
       "      <td>0.557178</td>\n",
       "      <td>0.866833</td>\n",
       "      <td>-0.123113</td>\n",
       "    </tr>\n",
       "    <tr>\n",
       "      <th>REVENUE</th>\n",
       "      <td>0.979041</td>\n",
       "      <td>0.807405</td>\n",
       "      <td>1.000000</td>\n",
       "      <td>1.000000</td>\n",
       "      <td>0.791627</td>\n",
       "      <td>0.312915</td>\n",
       "      <td>0.331850</td>\n",
       "      <td>0.670220</td>\n",
       "      <td>0.425376</td>\n",
       "      <td>0.355228</td>\n",
       "      <td>0.377622</td>\n",
       "      <td>0.534122</td>\n",
       "      <td>0.751785</td>\n",
       "      <td>-0.114822</td>\n",
       "    </tr>\n",
       "    <tr>\n",
       "      <th>ARPU_SEGMENT</th>\n",
       "      <td>0.979041</td>\n",
       "      <td>0.807405</td>\n",
       "      <td>1.000000</td>\n",
       "      <td>1.000000</td>\n",
       "      <td>0.791627</td>\n",
       "      <td>0.312915</td>\n",
       "      <td>0.331850</td>\n",
       "      <td>0.670220</td>\n",
       "      <td>0.425377</td>\n",
       "      <td>0.355228</td>\n",
       "      <td>0.377623</td>\n",
       "      <td>0.534120</td>\n",
       "      <td>0.751785</td>\n",
       "      <td>-0.114822</td>\n",
       "    </tr>\n",
       "    <tr>\n",
       "      <th>FREQUENCE</th>\n",
       "      <td>0.781164</td>\n",
       "      <td>0.956262</td>\n",
       "      <td>0.791627</td>\n",
       "      <td>0.791627</td>\n",
       "      <td>1.000000</td>\n",
       "      <td>0.181491</td>\n",
       "      <td>0.392656</td>\n",
       "      <td>0.475057</td>\n",
       "      <td>0.311898</td>\n",
       "      <td>0.113051</td>\n",
       "      <td>0.164952</td>\n",
       "      <td>0.591314</td>\n",
       "      <td>0.843150</td>\n",
       "      <td>-0.139685</td>\n",
       "    </tr>\n",
       "    <tr>\n",
       "      <th>DATA_VOLUME</th>\n",
       "      <td>0.308343</td>\n",
       "      <td>0.165226</td>\n",
       "      <td>0.312915</td>\n",
       "      <td>0.312915</td>\n",
       "      <td>0.181491</td>\n",
       "      <td>1.000000</td>\n",
       "      <td>-0.014683</td>\n",
       "      <td>0.066746</td>\n",
       "      <td>0.029573</td>\n",
       "      <td>0.034982</td>\n",
       "      <td>0.054873</td>\n",
       "      <td>0.198813</td>\n",
       "      <td>0.126535</td>\n",
       "      <td>-0.036015</td>\n",
       "    </tr>\n",
       "    <tr>\n",
       "      <th>ON_NET</th>\n",
       "      <td>0.327857</td>\n",
       "      <td>0.402383</td>\n",
       "      <td>0.331850</td>\n",
       "      <td>0.331850</td>\n",
       "      <td>0.392656</td>\n",
       "      <td>-0.014683</td>\n",
       "      <td>1.000000</td>\n",
       "      <td>0.218051</td>\n",
       "      <td>0.138315</td>\n",
       "      <td>0.010337</td>\n",
       "      <td>-0.018135</td>\n",
       "      <td>0.268487</td>\n",
       "      <td>0.351834</td>\n",
       "      <td>-0.057701</td>\n",
       "    </tr>\n",
       "    <tr>\n",
       "      <th>ORANGE</th>\n",
       "      <td>0.667531</td>\n",
       "      <td>0.522649</td>\n",
       "      <td>0.670220</td>\n",
       "      <td>0.670220</td>\n",
       "      <td>0.475057</td>\n",
       "      <td>0.066746</td>\n",
       "      <td>0.218051</td>\n",
       "      <td>1.000000</td>\n",
       "      <td>0.408712</td>\n",
       "      <td>0.042190</td>\n",
       "      <td>0.016740</td>\n",
       "      <td>0.310284</td>\n",
       "      <td>0.557338</td>\n",
       "      <td>-0.063382</td>\n",
       "    </tr>\n",
       "    <tr>\n",
       "      <th>TIGO</th>\n",
       "      <td>0.427289</td>\n",
       "      <td>0.348092</td>\n",
       "      <td>0.425376</td>\n",
       "      <td>0.425377</td>\n",
       "      <td>0.311898</td>\n",
       "      <td>0.029573</td>\n",
       "      <td>0.138315</td>\n",
       "      <td>0.408712</td>\n",
       "      <td>1.000000</td>\n",
       "      <td>0.006882</td>\n",
       "      <td>0.015626</td>\n",
       "      <td>0.197842</td>\n",
       "      <td>0.375953</td>\n",
       "      <td>-0.035890</td>\n",
       "    </tr>\n",
       "    <tr>\n",
       "      <th>ZONE1</th>\n",
       "      <td>0.350551</td>\n",
       "      <td>0.126573</td>\n",
       "      <td>0.355228</td>\n",
       "      <td>0.355228</td>\n",
       "      <td>0.113051</td>\n",
       "      <td>0.034982</td>\n",
       "      <td>0.010337</td>\n",
       "      <td>0.042190</td>\n",
       "      <td>0.006882</td>\n",
       "      <td>1.000000</td>\n",
       "      <td>0.041978</td>\n",
       "      <td>0.042619</td>\n",
       "      <td>0.187581</td>\n",
       "      <td>0.019937</td>\n",
       "    </tr>\n",
       "    <tr>\n",
       "      <th>ZONE2</th>\n",
       "      <td>0.407973</td>\n",
       "      <td>0.160979</td>\n",
       "      <td>0.377622</td>\n",
       "      <td>0.377623</td>\n",
       "      <td>0.164952</td>\n",
       "      <td>0.054873</td>\n",
       "      <td>-0.018135</td>\n",
       "      <td>0.016740</td>\n",
       "      <td>0.015626</td>\n",
       "      <td>0.041978</td>\n",
       "      <td>1.000000</td>\n",
       "      <td>0.072146</td>\n",
       "      <td>0.053927</td>\n",
       "      <td>0.000273</td>\n",
       "    </tr>\n",
       "    <tr>\n",
       "      <th>REGULARITY</th>\n",
       "      <td>0.524157</td>\n",
       "      <td>0.557178</td>\n",
       "      <td>0.534122</td>\n",
       "      <td>0.534120</td>\n",
       "      <td>0.591314</td>\n",
       "      <td>0.198813</td>\n",
       "      <td>0.268487</td>\n",
       "      <td>0.310284</td>\n",
       "      <td>0.197842</td>\n",
       "      <td>0.042619</td>\n",
       "      <td>0.072146</td>\n",
       "      <td>1.000000</td>\n",
       "      <td>0.445193</td>\n",
       "      <td>-0.479120</td>\n",
       "    </tr>\n",
       "    <tr>\n",
       "      <th>FREQ_TOP_PACK</th>\n",
       "      <td>0.742406</td>\n",
       "      <td>0.866833</td>\n",
       "      <td>0.751785</td>\n",
       "      <td>0.751785</td>\n",
       "      <td>0.843150</td>\n",
       "      <td>0.126535</td>\n",
       "      <td>0.351834</td>\n",
       "      <td>0.557338</td>\n",
       "      <td>0.375953</td>\n",
       "      <td>0.187581</td>\n",
       "      <td>0.053927</td>\n",
       "      <td>0.445193</td>\n",
       "      <td>1.000000</td>\n",
       "      <td>-0.085136</td>\n",
       "    </tr>\n",
       "    <tr>\n",
       "      <th>CHURN</th>\n",
       "      <td>-0.106229</td>\n",
       "      <td>-0.123113</td>\n",
       "      <td>-0.114822</td>\n",
       "      <td>-0.114822</td>\n",
       "      <td>-0.139685</td>\n",
       "      <td>-0.036015</td>\n",
       "      <td>-0.057701</td>\n",
       "      <td>-0.063382</td>\n",
       "      <td>-0.035890</td>\n",
       "      <td>0.019937</td>\n",
       "      <td>0.000273</td>\n",
       "      <td>-0.479120</td>\n",
       "      <td>-0.085136</td>\n",
       "      <td>1.000000</td>\n",
       "    </tr>\n",
       "  </tbody>\n",
       "</table>\n",
       "</div>"
      ],
      "text/plain": [
       "                 MONTANT  FREQUENCE_RECH   REVENUE  ARPU_SEGMENT  FREQUENCE  \\\n",
       "MONTANT         1.000000        0.800385  0.979041      0.979041   0.781164   \n",
       "FREQUENCE_RECH  0.800385        1.000000  0.807405      0.807405   0.956262   \n",
       "REVENUE         0.979041        0.807405  1.000000      1.000000   0.791627   \n",
       "ARPU_SEGMENT    0.979041        0.807405  1.000000      1.000000   0.791627   \n",
       "FREQUENCE       0.781164        0.956262  0.791627      0.791627   1.000000   \n",
       "DATA_VOLUME     0.308343        0.165226  0.312915      0.312915   0.181491   \n",
       "ON_NET          0.327857        0.402383  0.331850      0.331850   0.392656   \n",
       "ORANGE          0.667531        0.522649  0.670220      0.670220   0.475057   \n",
       "TIGO            0.427289        0.348092  0.425376      0.425377   0.311898   \n",
       "ZONE1           0.350551        0.126573  0.355228      0.355228   0.113051   \n",
       "ZONE2           0.407973        0.160979  0.377622      0.377623   0.164952   \n",
       "REGULARITY      0.524157        0.557178  0.534122      0.534120   0.591314   \n",
       "FREQ_TOP_PACK   0.742406        0.866833  0.751785      0.751785   0.843150   \n",
       "CHURN          -0.106229       -0.123113 -0.114822     -0.114822  -0.139685   \n",
       "\n",
       "                DATA_VOLUME    ON_NET    ORANGE      TIGO     ZONE1     ZONE2  \\\n",
       "MONTANT            0.308343  0.327857  0.667531  0.427289  0.350551  0.407973   \n",
       "FREQUENCE_RECH     0.165226  0.402383  0.522649  0.348092  0.126573  0.160979   \n",
       "REVENUE            0.312915  0.331850  0.670220  0.425376  0.355228  0.377622   \n",
       "ARPU_SEGMENT       0.312915  0.331850  0.670220  0.425377  0.355228  0.377623   \n",
       "FREQUENCE          0.181491  0.392656  0.475057  0.311898  0.113051  0.164952   \n",
       "DATA_VOLUME        1.000000 -0.014683  0.066746  0.029573  0.034982  0.054873   \n",
       "ON_NET            -0.014683  1.000000  0.218051  0.138315  0.010337 -0.018135   \n",
       "ORANGE             0.066746  0.218051  1.000000  0.408712  0.042190  0.016740   \n",
       "TIGO               0.029573  0.138315  0.408712  1.000000  0.006882  0.015626   \n",
       "ZONE1              0.034982  0.010337  0.042190  0.006882  1.000000  0.041978   \n",
       "ZONE2              0.054873 -0.018135  0.016740  0.015626  0.041978  1.000000   \n",
       "REGULARITY         0.198813  0.268487  0.310284  0.197842  0.042619  0.072146   \n",
       "FREQ_TOP_PACK      0.126535  0.351834  0.557338  0.375953  0.187581  0.053927   \n",
       "CHURN             -0.036015 -0.057701 -0.063382 -0.035890  0.019937  0.000273   \n",
       "\n",
       "                REGULARITY  FREQ_TOP_PACK     CHURN  \n",
       "MONTANT           0.524157       0.742406 -0.106229  \n",
       "FREQUENCE_RECH    0.557178       0.866833 -0.123113  \n",
       "REVENUE           0.534122       0.751785 -0.114822  \n",
       "ARPU_SEGMENT      0.534120       0.751785 -0.114822  \n",
       "FREQUENCE         0.591314       0.843150 -0.139685  \n",
       "DATA_VOLUME       0.198813       0.126535 -0.036015  \n",
       "ON_NET            0.268487       0.351834 -0.057701  \n",
       "ORANGE            0.310284       0.557338 -0.063382  \n",
       "TIGO              0.197842       0.375953 -0.035890  \n",
       "ZONE1             0.042619       0.187581  0.019937  \n",
       "ZONE2             0.072146       0.053927  0.000273  \n",
       "REGULARITY        1.000000       0.445193 -0.479120  \n",
       "FREQ_TOP_PACK     0.445193       1.000000 -0.085136  \n",
       "CHURN            -0.479120      -0.085136  1.000000  "
      ]
     },
     "execution_count": 9,
     "metadata": {},
     "output_type": "execute_result"
    }
   ],
   "source": [
    "df.corr()"
   ]
  },
  {
   "cell_type": "code",
   "execution_count": 10,
   "id": "0c8a1cee",
   "metadata": {},
   "outputs": [],
   "source": [
    "# from the correlation of the data, we seem to have a positive correlation from most of our datas"
   ]
  },
  {
   "cell_type": "markdown",
   "id": "a14294a6",
   "metadata": {},
   "source": [
    "# DATA VISUALIZATION"
   ]
  },
  {
   "cell_type": "code",
   "execution_count": 11,
   "id": "d9343c52",
   "metadata": {},
   "outputs": [
    {
     "data": {
      "text/plain": [
       "Index(['user_id', 'REGION', 'TENURE', 'MONTANT', 'FREQUENCE_RECH', 'REVENUE',\n",
       "       'ARPU_SEGMENT', 'FREQUENCE', 'DATA_VOLUME', 'ON_NET', 'ORANGE', 'TIGO',\n",
       "       'ZONE1', 'ZONE2', 'MRG', 'REGULARITY', 'TOP_PACK', 'FREQ_TOP_PACK',\n",
       "       'CHURN'],\n",
       "      dtype='object')"
      ]
     },
     "execution_count": 11,
     "metadata": {},
     "output_type": "execute_result"
    }
   ],
   "source": [
    "df.columns"
   ]
  },
  {
   "cell_type": "code",
   "execution_count": 12,
   "id": "203cd291",
   "metadata": {},
   "outputs": [],
   "source": [
    "region = df.REGION.value_counts()"
   ]
  },
  {
   "cell_type": "code",
   "execution_count": 13,
   "id": "0580a76c",
   "metadata": {},
   "outputs": [
    {
     "data": {
      "text/plain": [
       "DAKAR          95517\n",
       "THIES          33374\n",
       "SAINT-LOUIS    22125\n",
       "LOUGA          18513\n",
       "KAOLACK        18042\n",
       "DIOURBEL       12576\n",
       "TAMBACOUNDA    10273\n",
       "KAFFRINE        8181\n",
       "KOLDA           7204\n",
       "FATICK          6638\n",
       "MATAM           5255\n",
       "ZIGUINCHOR      4012\n",
       "SEDHIOU          589\n",
       "KEDOUGOU         181\n",
       "Name: REGION, dtype: int64"
      ]
     },
     "execution_count": 13,
     "metadata": {},
     "output_type": "execute_result"
    }
   ],
   "source": [
    "region"
   ]
  },
  {
   "cell_type": "code",
   "execution_count": 14,
   "id": "54779ff2",
   "metadata": {},
   "outputs": [
    {
     "name": "stderr",
     "output_type": "stream",
     "text": [
      "C:\\Users\\ADEBIMPE\\anaconda3\\lib\\site-packages\\seaborn\\_decorators.py:36: FutureWarning: Pass the following variables as keyword args: x, y. From version 0.12, the only valid positional argument will be `data`, and passing other arguments without an explicit keyword will result in an error or misinterpretation.\n",
      "  warnings.warn(\n"
     ]
    },
    {
     "data": {
      "image/png": "[encoded data removed]",
      "text/plain": [
       "<Figure size 1296x432 with 1 Axes>"
      ]
     },
     "metadata": {
      "needs_background": "light"
     },
     "output_type": "display_data"
    }
   ],
   "source": [
    "plt.figure(figsize=(18,6))\n",
    "sns.barplot(region.index, region, palette='icefire');"
   ]
  },
  {
   "cell_type": "code",
   "execution_count": 15,
   "id": "9ad4d896",
   "metadata": {},
   "outputs": [],
   "source": [
    "tenure = df.TENURE.value_counts()"
   ]
  },
  {
   "cell_type": "code",
   "execution_count": 16,
   "id": "26fe1b91",
   "metadata": {},
   "outputs": [
    {
     "data": {
      "text/plain": [
       "K > 24 month     379439\n",
       "I 18-21 month      8312\n",
       "H 15-18 month      4858\n",
       "G 12-15 month      2788\n",
       "J 21-24 month      2325\n",
       "F 9-12 month       1771\n",
       "E 6-9 month         359\n",
       "D 3-6 month         148\n",
       "Name: TENURE, dtype: int64"
      ]
     },
     "execution_count": 16,
     "metadata": {},
     "output_type": "execute_result"
    }
   ],
   "source": [
    "tenure"
   ]
  },
  {
   "cell_type": "code",
   "execution_count": 17,
   "id": "4cb6c618",
   "metadata": {},
   "outputs": [
    {
     "name": "stderr",
     "output_type": "stream",
     "text": [
      "C:\\Users\\ADEBIMPE\\anaconda3\\lib\\site-packages\\seaborn\\_decorators.py:36: FutureWarning: Pass the following variables as keyword args: x, y. From version 0.12, the only valid positional argument will be `data`, and passing other arguments without an explicit keyword will result in an error or misinterpretation.\n",
      "  warnings.warn(\n"
     ]
    },
    {
     "data": {
      "image/png": "[encoded data removed]",
      "text/plain": [
       "<Figure size 1296x432 with 1 Axes>"
      ]
     },
     "metadata": {
      "needs_background": "light"
     },
     "output_type": "display_data"
    }
   ],
   "source": [
    "plt.figure(figsize=(18,6))\n",
    "sns.barplot(tenure.index, tenure, palette='dark');"
   ]
  },
  {
   "cell_type": "code",
   "execution_count": 18,
   "id": "a716ee80",
   "metadata": {},
   "outputs": [],
   "source": [
    "toppack = df.TOP_PACK.value_counts()"
   ]
  },
  {
   "cell_type": "code",
   "execution_count": 19,
   "id": "ce856285",
   "metadata": {},
   "outputs": [
    {
     "data": {
      "text/plain": [
       "All-net 500F=2000F;5d             58675\n",
       "On net 200F=Unlimited _call24H    28387\n",
       "Data:490F=1GB,7d                  21661\n",
       "Data: 100 F=40MB,24H              15590\n",
       "Mixt 250F=Unlimited_call24H       12712\n",
       "                                  ...  \n",
       "pilot_offer5                          1\n",
       "Data:New-GPRS_PKG_1500F               1\n",
       "pilot_offer6                          1\n",
       "CVM_100F_unlimited                    1\n",
       "EVC_MEGA10000F                        1\n",
       "Name: TOP_PACK, Length: 111, dtype: int64"
      ]
     },
     "execution_count": 19,
     "metadata": {},
     "output_type": "execute_result"
    }
   ],
   "source": [
    "toppack"
   ]
  },
  {
   "cell_type": "code",
   "execution_count": 20,
   "id": "19838ea6",
   "metadata": {},
   "outputs": [],
   "source": [
    "churn = df.CHURN.value_counts()"
   ]
  },
  {
   "cell_type": "code",
   "execution_count": 21,
   "id": "f4b4911a",
   "metadata": {},
   "outputs": [
    {
     "data": {
      "text/plain": [
       "0    325156\n",
       "1     74844\n",
       "Name: CHURN, dtype: int64"
      ]
     },
     "execution_count": 21,
     "metadata": {},
     "output_type": "execute_result"
    }
   ],
   "source": [
    "churn"
   ]
  },
  {
   "cell_type": "code",
   "execution_count": 22,
   "id": "c2b457ed",
   "metadata": {},
   "outputs": [
    {
     "name": "stderr",
     "output_type": "stream",
     "text": [
      "C:\\Users\\ADEBIMPE\\anaconda3\\lib\\site-packages\\seaborn\\_decorators.py:36: FutureWarning: Pass the following variables as keyword args: x, y. From version 0.12, the only valid positional argument will be `data`, and passing other arguments without an explicit keyword will result in an error or misinterpretation.\n",
      "  warnings.warn(\n"
     ]
    },
    {
     "data": {
      "image/png": "[encoded data removed]",
      "text/plain": [
       "<Figure size 432x288 with 1 Axes>"
      ]
     },
     "metadata": {
      "needs_background": "light"
     },
     "output_type": "display_data"
    }
   ],
   "source": [
    "plt.title('CHURN')\n",
    "sns.barplot(churn.index, churn, palette='muted');"
   ]
  },
  {
   "cell_type": "code",
   "execution_count": 23,
   "id": "79f82368",
   "metadata": {},
   "outputs": [],
   "source": [
    "# from the above churn chart, we can see that we have over 300000 clients who are likely to stay behind and less than 100000 who are likely to leave"
   ]
  },
  {
   "cell_type": "code",
   "execution_count": 24,
   "id": "eec1a395",
   "metadata": {},
   "outputs": [
    {
     "data": {
      "image/png": "[encoded data removed]",
      "text/plain": [
       "<Figure size 5040x504 with 1 Axes>"
      ]
     },
     "metadata": {
      "needs_background": "light"
     },
     "output_type": "display_data"
    }
   ],
   "source": [
    "sns.catplot(x=\"REGION\",\n",
    "                y=\"CHURN\",\n",
    "                data=df, kind=\"bar\",\n",
    "                height=7, aspect=10, palette='twilight_r');"
   ]
  },
  {
   "cell_type": "code",
   "execution_count": 25,
   "id": "4c1b32ea",
   "metadata": {},
   "outputs": [],
   "source": [
    "# predicting those who will leave based on their region is almost possible."
   ]
  },
  {
   "cell_type": "code",
   "execution_count": 26,
   "id": "534c5489",
   "metadata": {},
   "outputs": [
    {
     "data": {
      "text/plain": [
       "<Figure size 1296x432 with 0 Axes>"
      ]
     },
     "metadata": {},
     "output_type": "display_data"
    },
    {
     "data": {
      "image/png": "[encoded data removed]",
      "text/plain": [
       "<Figure size 360x360 with 1 Axes>"
      ]
     },
     "metadata": {
      "needs_background": "light"
     },
     "output_type": "display_data"
    }
   ],
   "source": [
    "plt.figure(figsize=(18,6))\n",
    "sns.catplot(x=\"CHURN\",\n",
    "                y=\"REVENUE\",\n",
    "                data=df, kind=\"bar\", palette='Spectral');"
   ]
  },
  {
   "cell_type": "code",
   "execution_count": 27,
   "id": "cdbc364e",
   "metadata": {},
   "outputs": [],
   "source": [
    "# based on the revenue earned by each client, the chances of leaving to another service provider is quite low."
   ]
  },
  {
   "cell_type": "code",
   "execution_count": 28,
   "id": "39b8fe3c",
   "metadata": {},
   "outputs": [
    {
     "data": {
      "text/plain": [
       "<Figure size 1296x432 with 0 Axes>"
      ]
     },
     "metadata": {},
     "output_type": "display_data"
    },
    {
     "data": {
      "image/png": "[encoded data removed]",
      "text/plain": [
       "<Figure size 360x360 with 1 Axes>"
      ]
     },
     "metadata": {
      "needs_background": "light"
     },
     "output_type": "display_data"
    }
   ],
   "source": [
    "plt.figure(figsize=(18,6))\n",
    "sns.catplot(x=\"CHURN\",\n",
    "                y=\"MONTANT\",\n",
    "                data=df, kind=\"bar\", palette='hsv');"
   ]
  },
  {
   "cell_type": "code",
   "execution_count": 29,
   "id": "6f3ba095",
   "metadata": {},
   "outputs": [],
   "source": [
    "# going futher, i decided to check if it was possible to \n",
    "# leave based on the last top up amount by the client, but looking at the chart, \n",
    "# it is not a good determinant of clients who wil leave or stay back"
   ]
  },
  {
   "cell_type": "code",
   "execution_count": 30,
   "id": "51763c40",
   "metadata": {},
   "outputs": [
    {
     "data": {
      "text/plain": [
       "<Figure size 1296x432 with 0 Axes>"
      ]
     },
     "metadata": {},
     "output_type": "display_data"
    },
    {
     "data": {
      "image/png": "[encoded data removed]",
      "text/plain": [
       "<Figure size 360x360 with 1 Axes>"
      ]
     },
     "metadata": {
      "needs_background": "light"
     },
     "output_type": "display_data"
    }
   ],
   "source": [
    "plt.figure(figsize=(18,6))\n",
    "sns.catplot(x=\"CHURN\",\n",
    "                y=\"FREQUENCE_RECH\",\n",
    "                data=df, kind=\"bar\", palette='autumn');"
   ]
  },
  {
   "cell_type": "code",
   "execution_count": 31,
   "id": "5eb9386d",
   "metadata": {},
   "outputs": [],
   "source": [
    "# looking at the number of times a customer refilled, we can see that majority of the clients will stay and very few will probably leave."
   ]
  },
  {
   "cell_type": "code",
   "execution_count": 32,
   "id": "24122400",
   "metadata": {},
   "outputs": [
    {
     "data": {
      "text/plain": [
       "<Figure size 1296x432 with 0 Axes>"
      ]
     },
     "metadata": {},
     "output_type": "display_data"
    },
    {
     "data": {
      "image/png": "[encoded data removed]",
      "text/plain": [
       "<Figure size 360x360 with 1 Axes>"
      ]
     },
     "metadata": {
      "needs_background": "light"
     },
     "output_type": "display_data"
    }
   ],
   "source": [
    "plt.figure(figsize=(18,6))\n",
    "sns.catplot(x=\"CHURN\",\n",
    "                y=\"FREQUENCE\",\n",
    "                data=df, kind=\"bar\", palette='coolwarm');"
   ]
  },
  {
   "cell_type": "code",
   "execution_count": 33,
   "id": "808ce560",
   "metadata": {},
   "outputs": [],
   "source": [
    "# predicting with the chart above, we have more people who will stay than leave. it's like, the higher the number of times\n",
    "# they make an income, the higher their chances of staying."
   ]
  },
  {
   "cell_type": "code",
   "execution_count": 34,
   "id": "368c4eb1",
   "metadata": {},
   "outputs": [
    {
     "data": {
      "text/plain": [
       "<Figure size 1296x432 with 0 Axes>"
      ]
     },
     "metadata": {},
     "output_type": "display_data"
    },
    {
     "data": {
      "image/png": "[encoded data removed]",
      "text/plain": [
       "<Figure size 360x360 with 1 Axes>"
      ]
     },
     "metadata": {
      "needs_background": "light"
     },
     "output_type": "display_data"
    }
   ],
   "source": [
    "plt.figure(figsize=(18,6))\n",
    "sns.catplot(x=\"CHURN\",\n",
    "                y=\"DATA_VOLUME\",\n",
    "                data=df, kind=\"bar\", palette='prism');"
   ]
  },
  {
   "cell_type": "code",
   "execution_count": 35,
   "id": "249fb416",
   "metadata": {},
   "outputs": [],
   "source": [
    "# based on the number of connections, its a 50/50 thing, there are chances of clients leaving based on connections"
   ]
  },
  {
   "cell_type": "code",
   "execution_count": 36,
   "id": "15faa9e6",
   "metadata": {},
   "outputs": [
    {
     "data": {
      "text/plain": [
       "<Figure size 1296x432 with 0 Axes>"
      ]
     },
     "metadata": {},
     "output_type": "display_data"
    },
    {
     "data": {
      "image/png": "[encoded data removed]",
      "text/plain": [
       "<Figure size 360x360 with 1 Axes>"
      ]
     },
     "metadata": {
      "needs_background": "light"
     },
     "output_type": "display_data"
    }
   ],
   "source": [
    "plt.figure(figsize=(18,6))\n",
    "sns.catplot(x=\"CHURN\",\n",
    "                y=\"ARPU_SEGMENT\",\n",
    "                data=df, kind=\"bar\", palette='inferno');"
   ]
  },
  {
   "cell_type": "code",
   "execution_count": 37,
   "id": "f5f70364",
   "metadata": {},
   "outputs": [],
   "source": [
    "# based on their income over the last 3months, the chances of moving to a different service provider is slim."
   ]
  },
  {
   "cell_type": "code",
   "execution_count": 38,
   "id": "5321d7f9",
   "metadata": {},
   "outputs": [
    {
     "data": {
      "text/plain": [
       "<Figure size 1296x432 with 0 Axes>"
      ]
     },
     "metadata": {},
     "output_type": "display_data"
    },
    {
     "data": {
      "image/png": "[encoded data removed]",
      "text/plain": [
       "<Figure size 360x360 with 1 Axes>"
      ]
     },
     "metadata": {
      "needs_background": "light"
     },
     "output_type": "display_data"
    }
   ],
   "source": [
    "plt.figure(figsize=(18,6))\n",
    "sns.catplot(x=\"CHURN\",\n",
    "                y=\"ON_NET\",\n",
    "                data=df, kind=\"bar\", palette='plasma');"
   ]
  },
  {
   "cell_type": "code",
   "execution_count": 39,
   "id": "fffcdcd2",
   "metadata": {},
   "outputs": [],
   "source": [
    "# this are calls made to the company itself probably for enquires about the product. clients having adequate information and access to the provider are likely not to leave"
   ]
  },
  {
   "cell_type": "code",
   "execution_count": 40,
   "id": "2c22d1bb",
   "metadata": {},
   "outputs": [
    {
     "data": {
      "text/plain": [
       "<Figure size 1296x432 with 0 Axes>"
      ]
     },
     "metadata": {},
     "output_type": "display_data"
    },
    {
     "data": {
      "image/png": "[encoded data removed]",
      "text/plain": [
       "<Figure size 360x360 with 1 Axes>"
      ]
     },
     "metadata": {
      "needs_background": "light"
     },
     "output_type": "display_data"
    }
   ],
   "source": [
    "plt.figure(figsize=(18,6))\n",
    "sns.catplot(x=\"CHURN\",\n",
    "                y=\"ORANGE\",\n",
    "                data=df, kind=\"bar\", palette='spring');"
   ]
  },
  {
   "cell_type": "code",
   "execution_count": 41,
   "id": "249d77a6",
   "metadata": {},
   "outputs": [],
   "source": [
    "# calls made to orange proves to not be a determinant why clients would leave."
   ]
  },
  {
   "cell_type": "code",
   "execution_count": 42,
   "id": "660c8c00",
   "metadata": {},
   "outputs": [
    {
     "data": {
      "text/plain": [
       "<Figure size 1296x432 with 0 Axes>"
      ]
     },
     "metadata": {},
     "output_type": "display_data"
    },
    {
     "data": {
      "image/png": "[encoded data removed]",
      "text/plain": [
       "<Figure size 360x360 with 1 Axes>"
      ]
     },
     "metadata": {
      "needs_background": "light"
     },
     "output_type": "display_data"
    }
   ],
   "source": [
    "plt.figure(figsize=(18,6))\n",
    "sns.catplot(x=\"CHURN\",\n",
    "                y=\"ZONE1\",\n",
    "                data=df, kind=\"bar\", palette='vlag');"
   ]
  },
  {
   "cell_type": "code",
   "execution_count": 43,
   "id": "01864046",
   "metadata": {},
   "outputs": [],
   "source": [
    "# looking at the calls made to zone1 we can tell that the company is likely to loose more clients to their competitors. this could be base on underlying factors. "
   ]
  },
  {
   "cell_type": "code",
   "execution_count": 44,
   "id": "5841747f",
   "metadata": {},
   "outputs": [
    {
     "data": {
      "text/plain": [
       "<Figure size 1296x432 with 0 Axes>"
      ]
     },
     "metadata": {},
     "output_type": "display_data"
    },
    {
     "data": {
      "image/png": "[encoded data removed]",
      "text/plain": [
       "<Figure size 360x360 with 1 Axes>"
      ]
     },
     "metadata": {
      "needs_background": "light"
     },
     "output_type": "display_data"
    }
   ],
   "source": [
    "plt.figure(figsize=(18,6))\n",
    "sns.catplot(x=\"CHURN\",\n",
    "                y=\"ZONE2\",\n",
    "                data=df, kind=\"bar\", palette='Blues');"
   ]
  },
  {
   "cell_type": "code",
   "execution_count": 45,
   "id": "0128b338",
   "metadata": {},
   "outputs": [],
   "source": [
    "# call to zone 2 equally pose a threat to the success of the service provider. the chances of churning is equally high."
   ]
  },
  {
   "cell_type": "code",
   "execution_count": 46,
   "id": "a5ec3a23",
   "metadata": {},
   "outputs": [
    {
     "data": {
      "text/plain": [
       "<Figure size 1296x432 with 0 Axes>"
      ]
     },
     "metadata": {},
     "output_type": "display_data"
    },
    {
     "data": {
      "image/png": "[encoded data removed]",
      "text/plain": [
       "<Figure size 360x360 with 1 Axes>"
      ]
     },
     "metadata": {
      "needs_background": "light"
     },
     "output_type": "display_data"
    }
   ],
   "source": [
    "plt.figure(figsize=(18,6))\n",
    "sns.catplot(x=\"CHURN\",\n",
    "                y=\"TIGO\",\n",
    "                data=df, kind=\"bar\", palette='winter');"
   ]
  },
  {
   "cell_type": "code",
   "execution_count": 47,
   "id": "1309b395",
   "metadata": {},
   "outputs": [],
   "source": [
    "# calls to tigo is fair enough as w have clients who will probably stay"
   ]
  },
  {
   "cell_type": "code",
   "execution_count": 48,
   "id": "d8b3d985",
   "metadata": {},
   "outputs": [
    {
     "data": {
      "text/plain": [
       "<Figure size 1296x432 with 0 Axes>"
      ]
     },
     "metadata": {},
     "output_type": "display_data"
    },
    {
     "data": {
      "image/png": "[encoded data removed]",
      "text/plain": [
       "<Figure size 360x360 with 1 Axes>"
      ]
     },
     "metadata": {
      "needs_background": "light"
     },
     "output_type": "display_data"
    }
   ],
   "source": [
    "plt.figure(figsize=(18,6))\n",
    "sns.catplot(x=\"CHURN\",\n",
    "                y=\"REGULARITY\",\n",
    "                data=df, kind=\"bar\", palette='Set2');"
   ]
  },
  {
   "cell_type": "code",
   "execution_count": 49,
   "id": "070a3e07",
   "metadata": {},
   "outputs": [],
   "source": [
    "# based on the number of times the client is active for 90 days, we have more clients who will stay than leave."
   ]
  },
  {
   "cell_type": "code",
   "execution_count": 50,
   "id": "30d4378d",
   "metadata": {},
   "outputs": [
    {
     "data": {
      "text/plain": [
       "<Figure size 1296x432 with 0 Axes>"
      ]
     },
     "metadata": {},
     "output_type": "display_data"
    },
    {
     "data": {
      "image/png": "[encoded data removed]",
      "text/plain": [
       "<Figure size 360x360 with 1 Axes>"
      ]
     },
     "metadata": {
      "needs_background": "light"
     },
     "output_type": "display_data"
    }
   ],
   "source": [
    "plt.figure(figsize=(18,6))\n",
    "sns.catplot(x=\"CHURN\",\n",
    "                y=\"FREQ_TOP_PACK\",\n",
    "                data=df, kind=\"bar\", palette='gist_yarg');"
   ]
  },
  {
   "cell_type": "code",
   "execution_count": 51,
   "id": "f7234576",
   "metadata": {},
   "outputs": [],
   "source": [
    "# The number of times they subscribed for the top packs isn't really a major determinant"
   ]
  },
  {
   "cell_type": "markdown",
   "id": "234dde30",
   "metadata": {},
   "source": [
    "# DATA CLEANING"
   ]
  },
  {
   "cell_type": "code",
   "execution_count": 52,
   "id": "14f2403c",
   "metadata": {},
   "outputs": [
    {
     "data": {
      "text/plain": [
       "<AxesSubplot:>"
      ]
     },
     "execution_count": 52,
     "metadata": {},
     "output_type": "execute_result"
    },
    {
     "data": {
      "image/png": "[encoded data removed]",
      "text/plain": [
       "<Figure size 432x288 with 1 Axes>"
      ]
     },
     "metadata": {
      "needs_background": "light"
     },
     "output_type": "display_data"
    }
   ],
   "source": [
    "sns.heatmap(df.isnull(),yticklabels=False,cbar=False,cmap='Paired')"
   ]
  },
  {
   "cell_type": "code",
   "execution_count": 53,
   "id": "a292b709",
   "metadata": {},
   "outputs": [
    {
     "data": {
      "text/plain": [
       "user_id                0\n",
       "REGION            157520\n",
       "TENURE                 0\n",
       "MONTANT           140277\n",
       "FREQUENCE_RECH    140277\n",
       "REVENUE           134663\n",
       "ARPU_SEGMENT      134663\n",
       "FREQUENCE         134663\n",
       "DATA_VOLUME       196854\n",
       "ON_NET            145819\n",
       "ORANGE            166317\n",
       "TIGO              239386\n",
       "ZONE1             368310\n",
       "ZONE2             374487\n",
       "MRG                    0\n",
       "REGULARITY             0\n",
       "TOP_PACK          167329\n",
       "FREQ_TOP_PACK     167329\n",
       "CHURN                  0\n",
       "dtype: int64"
      ]
     },
     "execution_count": 53,
     "metadata": {},
     "output_type": "execute_result"
    }
   ],
   "source": [
    "df.isnull().sum()"
   ]
  },
  {
   "cell_type": "code",
   "execution_count": 54,
   "id": "f8c43a16",
   "metadata": {},
   "outputs": [],
   "source": [
    "df.drop_duplicates(inplace=True)"
   ]
  },
  {
   "cell_type": "code",
   "execution_count": 55,
   "id": "ef468f57",
   "metadata": {},
   "outputs": [],
   "source": [
    "df.drop('user_id',axis=1, inplace=True)\n",
    "df.drop('MRG',axis=1, inplace=True)\n",
    "df.drop('ZONE1',axis=1, inplace=True)\n",
    "df.drop('ZONE2',axis=1, inplace=True)\n",
    "df.drop('TIGO',axis=1, inplace=True)\n",
    "df.drop('TOP_PACK',axis=1, inplace=True)\n",
    "df.drop('REGION',axis=1, inplace=True)"
   ]
  },
  {
   "cell_type": "code",
   "execution_count": 56,
   "id": "d0924048",
   "metadata": {},
   "outputs": [
    {
     "name": "stdout",
     "output_type": "stream",
     "text": [
      "<class 'pandas.core.frame.DataFrame'>\n",
      "Int64Index: 400000 entries, 0 to 399999\n",
      "Data columns (total 12 columns):\n",
      " #   Column          Non-Null Count   Dtype  \n",
      "---  ------          --------------   -----  \n",
      " 0   TENURE          400000 non-null  object \n",
      " 1   MONTANT         259723 non-null  float64\n",
      " 2   FREQUENCE_RECH  259723 non-null  float64\n",
      " 3   REVENUE         265337 non-null  float64\n",
      " 4   ARPU_SEGMENT    265337 non-null  float64\n",
      " 5   FREQUENCE       265337 non-null  float64\n",
      " 6   DATA_VOLUME     203146 non-null  float64\n",
      " 7   ON_NET          254181 non-null  float64\n",
      " 8   ORANGE          233683 non-null  float64\n",
      " 9   REGULARITY      400000 non-null  int64  \n",
      " 10  FREQ_TOP_PACK   232671 non-null  float64\n",
      " 11  CHURN           400000 non-null  int64  \n",
      "dtypes: float64(9), int64(2), object(1)\n",
      "memory usage: 39.7+ MB\n"
     ]
    }
   ],
   "source": [
    "df.info()"
   ]
  },
  {
   "cell_type": "code",
   "execution_count": 57,
   "id": "71044dd0",
   "metadata": {},
   "outputs": [],
   "source": [
    "from sklearn.preprocessing import LabelEncoder\n",
    "\n",
    "le= LabelEncoder()\n",
    "\n",
    "df['TENURE']=le.fit_transform(df['TENURE'])"
   ]
  },
  {
   "cell_type": "code",
   "execution_count": 58,
   "id": "065f7364",
   "metadata": {},
   "outputs": [
    {
     "data": {
      "text/html": [
       "<div>\n",
       "<style scoped>\n",
       "    .dataframe tbody tr th:only-of-type {\n",
       "        vertical-align: middle;\n",
       "    }\n",
       "\n",
       "    .dataframe tbody tr th {\n",
       "        vertical-align: top;\n",
       "    }\n",
       "\n",
       "    .dataframe thead th {\n",
       "        text-align: right;\n",
       "    }\n",
       "</style>\n",
       "<table border=\"1\" class=\"dataframe\">\n",
       "  <thead>\n",
       "    <tr style=\"text-align: right;\">\n",
       "      <th></th>\n",
       "      <th>TENURE</th>\n",
       "      <th>MONTANT</th>\n",
       "      <th>FREQUENCE_RECH</th>\n",
       "      <th>REVENUE</th>\n",
       "      <th>ARPU_SEGMENT</th>\n",
       "      <th>FREQUENCE</th>\n",
       "      <th>DATA_VOLUME</th>\n",
       "      <th>ON_NET</th>\n",
       "      <th>ORANGE</th>\n",
       "      <th>REGULARITY</th>\n",
       "      <th>FREQ_TOP_PACK</th>\n",
       "      <th>CHURN</th>\n",
       "    </tr>\n",
       "  </thead>\n",
       "  <tbody>\n",
       "    <tr>\n",
       "      <th>0</th>\n",
       "      <td>7</td>\n",
       "      <td>17000.0</td>\n",
       "      <td>32.0</td>\n",
       "      <td>18000.0</td>\n",
       "      <td>6000.0</td>\n",
       "      <td>34.0</td>\n",
       "      <td>NaN</td>\n",
       "      <td>97.0</td>\n",
       "      <td>355.0</td>\n",
       "      <td>62</td>\n",
       "      <td>35.0</td>\n",
       "      <td>0</td>\n",
       "    </tr>\n",
       "    <tr>\n",
       "      <th>1</th>\n",
       "      <td>7</td>\n",
       "      <td>4300.0</td>\n",
       "      <td>29.0</td>\n",
       "      <td>4427.0</td>\n",
       "      <td>1476.0</td>\n",
       "      <td>37.0</td>\n",
       "      <td>1764.0</td>\n",
       "      <td>8.0</td>\n",
       "      <td>3.0</td>\n",
       "      <td>40</td>\n",
       "      <td>22.0</td>\n",
       "      <td>0</td>\n",
       "    </tr>\n",
       "    <tr>\n",
       "      <th>2</th>\n",
       "      <td>7</td>\n",
       "      <td>1500.0</td>\n",
       "      <td>3.0</td>\n",
       "      <td>1500.0</td>\n",
       "      <td>500.0</td>\n",
       "      <td>3.0</td>\n",
       "      <td>NaN</td>\n",
       "      <td>30.0</td>\n",
       "      <td>30.0</td>\n",
       "      <td>32</td>\n",
       "      <td>3.0</td>\n",
       "      <td>0</td>\n",
       "    </tr>\n",
       "    <tr>\n",
       "      <th>3</th>\n",
       "      <td>7</td>\n",
       "      <td>1500.0</td>\n",
       "      <td>3.0</td>\n",
       "      <td>2497.0</td>\n",
       "      <td>832.0</td>\n",
       "      <td>4.0</td>\n",
       "      <td>0.0</td>\n",
       "      <td>159.0</td>\n",
       "      <td>45.0</td>\n",
       "      <td>18</td>\n",
       "      <td>3.0</td>\n",
       "      <td>0</td>\n",
       "    </tr>\n",
       "    <tr>\n",
       "      <th>4</th>\n",
       "      <td>7</td>\n",
       "      <td>NaN</td>\n",
       "      <td>NaN</td>\n",
       "      <td>498.0</td>\n",
       "      <td>166.0</td>\n",
       "      <td>3.0</td>\n",
       "      <td>1.0</td>\n",
       "      <td>1.0</td>\n",
       "      <td>3.0</td>\n",
       "      <td>50</td>\n",
       "      <td>NaN</td>\n",
       "      <td>0</td>\n",
       "    </tr>\n",
       "  </tbody>\n",
       "</table>\n",
       "</div>"
      ],
      "text/plain": [
       "   TENURE  MONTANT  FREQUENCE_RECH  REVENUE  ARPU_SEGMENT  FREQUENCE  \\\n",
       "0       7  17000.0            32.0  18000.0        6000.0       34.0   \n",
       "1       7   4300.0            29.0   4427.0        1476.0       37.0   \n",
       "2       7   1500.0             3.0   1500.0         500.0        3.0   \n",
       "3       7   1500.0             3.0   2497.0         832.0        4.0   \n",
       "4       7      NaN             NaN    498.0         166.0        3.0   \n",
       "\n",
       "   DATA_VOLUME  ON_NET  ORANGE  REGULARITY  FREQ_TOP_PACK  CHURN  \n",
       "0          NaN    97.0   355.0          62           35.0      0  \n",
       "1       1764.0     8.0     3.0          40           22.0      0  \n",
       "2          NaN    30.0    30.0          32            3.0      0  \n",
       "3          0.0   159.0    45.0          18            3.0      0  \n",
       "4          1.0     1.0     3.0          50            NaN      0  "
      ]
     },
     "execution_count": 58,
     "metadata": {},
     "output_type": "execute_result"
    }
   ],
   "source": [
    "df.head()"
   ]
  },
  {
   "cell_type": "code",
   "execution_count": 59,
   "id": "a33f70cc",
   "metadata": {},
   "outputs": [
    {
     "data": {
      "text/plain": [
       "K > 24 month     379439\n",
       "I 18-21 month      8312\n",
       "H 15-18 month      4858\n",
       "G 12-15 month      2788\n",
       "J 21-24 month      2325\n",
       "F 9-12 month       1771\n",
       "E 6-9 month         359\n",
       "D 3-6 month         148\n",
       "Name: TENURE, dtype: int64"
      ]
     },
     "execution_count": 59,
     "metadata": {},
     "output_type": "execute_result"
    }
   ],
   "source": [
    "tenure"
   ]
  },
  {
   "cell_type": "code",
   "execution_count": 60,
   "id": "80beed1f",
   "metadata": {},
   "outputs": [],
   "source": [
    "tenure = df.TENURE.value_counts()"
   ]
  },
  {
   "cell_type": "code",
   "execution_count": 61,
   "id": "3f2014b4",
   "metadata": {},
   "outputs": [
    {
     "data": {
      "text/plain": [
       "7    379439\n",
       "5      8312\n",
       "4      4858\n",
       "3      2788\n",
       "6      2325\n",
       "2      1771\n",
       "1       359\n",
       "0       148\n",
       "Name: TENURE, dtype: int64"
      ]
     },
     "execution_count": 61,
     "metadata": {},
     "output_type": "execute_result"
    }
   ],
   "source": [
    "tenure"
   ]
  },
  {
   "cell_type": "code",
   "execution_count": 62,
   "id": "5126f15c",
   "metadata": {},
   "outputs": [],
   "source": [
    "# dealing with monetary values and amount, it will be ideal to use the mean\n",
    "\n",
    "df['REVENUE'].fillna(value=df.REVENUE.mean(), inplace=True)\n",
    "df['FREQUENCE'].fillna(value=df.FREQUENCE.mean(), inplace=True)\n",
    "df['ARPU_SEGMENT'].fillna(value=df.ARPU_SEGMENT.mean(), inplace=True)\n",
    "df['MONTANT'].fillna(value=df.MONTANT.mean(), inplace=True)"
   ]
  },
  {
   "cell_type": "code",
   "execution_count": 63,
   "id": "dd5d4f81",
   "metadata": {},
   "outputs": [],
   "source": [
    "df['FREQUENCE_RECH'].fillna(method=\"ffill\", inplace=True)\n",
    "df['DATA_VOLUME'].fillna(method=\"ffill\", inplace=True)\n",
    "df['FREQ_TOP_PACK'].fillna(method=\"ffill\", inplace=True)"
   ]
  },
  {
   "cell_type": "code",
   "execution_count": 64,
   "id": "258296b8",
   "metadata": {},
   "outputs": [],
   "source": [
    "df['ON_NET'].fillna(method=\"backfill\", inplace=True)\n",
    "df['ORANGE'].fillna(method=\"backfill\", inplace=True)"
   ]
  },
  {
   "cell_type": "code",
   "execution_count": 65,
   "id": "e52137ce",
   "metadata": {},
   "outputs": [
    {
     "data": {
      "text/plain": [
       "TENURE            0\n",
       "MONTANT           0\n",
       "FREQUENCE_RECH    0\n",
       "REVENUE           0\n",
       "ARPU_SEGMENT      0\n",
       "FREQUENCE         0\n",
       "DATA_VOLUME       1\n",
       "ON_NET            2\n",
       "ORANGE            1\n",
       "REGULARITY        0\n",
       "FREQ_TOP_PACK     0\n",
       "CHURN             0\n",
       "dtype: int64"
      ]
     },
     "execution_count": 65,
     "metadata": {},
     "output_type": "execute_result"
    }
   ],
   "source": [
    "df.isnull().sum()"
   ]
  },
  {
   "cell_type": "code",
   "execution_count": 66,
   "id": "d4850262",
   "metadata": {},
   "outputs": [],
   "source": [
    "df.fillna(0, inplace=True)"
   ]
  },
  {
   "cell_type": "code",
   "execution_count": 67,
   "id": "c7de9143",
   "metadata": {},
   "outputs": [
    {
     "name": "stdout",
     "output_type": "stream",
     "text": [
      "<class 'pandas.core.frame.DataFrame'>\n",
      "Int64Index: 400000 entries, 0 to 399999\n",
      "Data columns (total 12 columns):\n",
      " #   Column          Non-Null Count   Dtype  \n",
      "---  ------          --------------   -----  \n",
      " 0   TENURE          400000 non-null  int32  \n",
      " 1   MONTANT         400000 non-null  float64\n",
      " 2   FREQUENCE_RECH  400000 non-null  float64\n",
      " 3   REVENUE         400000 non-null  float64\n",
      " 4   ARPU_SEGMENT    400000 non-null  float64\n",
      " 5   FREQUENCE       400000 non-null  float64\n",
      " 6   DATA_VOLUME     400000 non-null  float64\n",
      " 7   ON_NET          400000 non-null  float64\n",
      " 8   ORANGE          400000 non-null  float64\n",
      " 9   REGULARITY      400000 non-null  int64  \n",
      " 10  FREQ_TOP_PACK   400000 non-null  float64\n",
      " 11  CHURN           400000 non-null  int64  \n",
      "dtypes: float64(9), int32(1), int64(2)\n",
      "memory usage: 38.1 MB\n"
     ]
    }
   ],
   "source": [
    "df.info()"
   ]
  },
  {
   "cell_type": "code",
   "execution_count": 68,
   "id": "9dcc7780",
   "metadata": {},
   "outputs": [
    {
     "data": {
      "text/plain": [
       "<AxesSubplot:>"
      ]
     },
     "execution_count": 68,
     "metadata": {},
     "output_type": "execute_result"
    },
    {
     "data": {
      "image/png": "[encoded data removed]",
      "text/plain": [
       "<Figure size 432x288 with 1 Axes>"
      ]
     },
     "metadata": {
      "needs_background": "light"
     },
     "output_type": "display_data"
    }
   ],
   "source": [
    "sns.heatmap(df.isnull(),yticklabels=False,cbar=False,cmap='Paired')"
   ]
  },
  {
   "cell_type": "markdown",
   "id": "7d83cefb",
   "metadata": {},
   "source": [
    "# PREDICTIVE MODELS"
   ]
  },
  {
   "cell_type": "code",
   "execution_count": 69,
   "id": "95de6882",
   "metadata": {},
   "outputs": [],
   "source": [
    "# SPLITING OF DATASET\n",
    "\n",
    "from sklearn.model_selection import train_test_split"
   ]
  },
  {
   "cell_type": "code",
   "execution_count": 70,
   "id": "18c1ef0a",
   "metadata": {},
   "outputs": [],
   "source": [
    "x = df[['TENURE', 'MONTANT', 'FREQUENCE_RECH', 'REVENUE', 'ARPU_SEGMENT', 'FREQUENCE', 'DATA_VOLUME', 'ON_NET', 'ORANGE',\n",
    "        'REGULARITY', 'FREQ_TOP_PACK']]\n",
    "y = df['CHURN']"
   ]
  },
  {
   "cell_type": "code",
   "execution_count": 71,
   "id": "ff298d5e",
   "metadata": {},
   "outputs": [],
   "source": [
    "x_train, x_test, y_train, y_test = train_test_split(x,y,test_size=0.3,random_state=1000)"
   ]
  },
  {
   "cell_type": "code",
   "execution_count": 72,
   "id": "07b08cb2",
   "metadata": {},
   "outputs": [
    {
     "data": {
      "text/plain": [
       "(280000, 11)"
      ]
     },
     "execution_count": 72,
     "metadata": {},
     "output_type": "execute_result"
    }
   ],
   "source": [
    "x_train.shape"
   ]
  },
  {
   "cell_type": "code",
   "execution_count": 73,
   "id": "1b1b0b04",
   "metadata": {},
   "outputs": [
    {
     "data": {
      "text/plain": [
       "(120000, 11)"
      ]
     },
     "execution_count": 73,
     "metadata": {},
     "output_type": "execute_result"
    }
   ],
   "source": [
    "x_test.shape"
   ]
  },
  {
   "cell_type": "markdown",
   "id": "f065a179",
   "metadata": {},
   "source": [
    "## MODELLING WITH LOGISTIC REGRESSION"
   ]
  },
  {
   "cell_type": "code",
   "execution_count": 74,
   "id": "84230096",
   "metadata": {},
   "outputs": [],
   "source": [
    "from sklearn.linear_model import LogisticRegression"
   ]
  },
  {
   "cell_type": "code",
   "execution_count": 75,
   "id": "f0ea8ac9",
   "metadata": {},
   "outputs": [
    {
     "data": {
      "text/plain": [
       "LogisticRegression(C=10, max_iter=500)"
      ]
     },
     "execution_count": 75,
     "metadata": {},
     "output_type": "execute_result"
    }
   ],
   "source": [
    "logmodel = LogisticRegression(C=10, max_iter=500)\n",
    "logmodel.fit(x_train,y_train)"
   ]
  },
  {
   "cell_type": "code",
   "execution_count": 76,
   "id": "3f2efa29",
   "metadata": {},
   "outputs": [],
   "source": [
    "predictions = logmodel.predict(x_test)"
   ]
  },
  {
   "cell_type": "code",
   "execution_count": 77,
   "id": "9557d399",
   "metadata": {},
   "outputs": [
    {
     "data": {
      "text/plain": [
       "array([0, 1, 0, ..., 0, 0, 0], dtype=int64)"
      ]
     },
     "execution_count": 77,
     "metadata": {},
     "output_type": "execute_result"
    }
   ],
   "source": [
    "predictions"
   ]
  },
  {
   "cell_type": "code",
   "execution_count": 78,
   "id": "00b52cbe",
   "metadata": {},
   "outputs": [],
   "source": [
    "prob = logmodel.predict_proba(x_test)"
   ]
  },
  {
   "cell_type": "code",
   "execution_count": 79,
   "id": "c0fc0cf6",
   "metadata": {},
   "outputs": [],
   "source": [
    "from sklearn.metrics import roc_curve\n",
    "fpr, tpr, threshold = roc_curve(y_test, prob[:,1])"
   ]
  },
  {
   "cell_type": "code",
   "execution_count": 80,
   "id": "21f4a1ca",
   "metadata": {},
   "outputs": [],
   "source": [
    "from sklearn.metrics import classification_report, confusion_matrix, auc"
   ]
  },
  {
   "cell_type": "code",
   "execution_count": 81,
   "id": "fcaa677a",
   "metadata": {},
   "outputs": [
    {
     "name": "stdout",
     "output_type": "stream",
     "text": [
      "              precision    recall  f1-score   support\n",
      "\n",
      "           0       0.91      0.92      0.91     97450\n",
      "           1       0.63      0.61      0.62     22550\n",
      "\n",
      "    accuracy                           0.86    120000\n",
      "   macro avg       0.77      0.76      0.77    120000\n",
      "weighted avg       0.86      0.86      0.86    120000\n",
      "\n"
     ]
    }
   ],
   "source": [
    "print(classification_report(y_test,predictions))"
   ]
  },
  {
   "cell_type": "markdown",
   "id": "3b72be3f",
   "metadata": {},
   "source": [
    "## MODELLING WITH NAIVE BAYES"
   ]
  },
  {
   "cell_type": "code",
   "execution_count": 82,
   "id": "903dd60c",
   "metadata": {},
   "outputs": [
    {
     "data": {
      "text/plain": [
       "GaussianNB()"
      ]
     },
     "execution_count": 82,
     "metadata": {},
     "output_type": "execute_result"
    }
   ],
   "source": [
    "from sklearn.naive_bayes import GaussianNB\n",
    "classifier = GaussianNB()\n",
    "classifier.fit(x_train, y_train)"
   ]
  },
  {
   "cell_type": "code",
   "execution_count": 83,
   "id": "94ba10a7",
   "metadata": {},
   "outputs": [],
   "source": [
    "y_pred = classifier.predict(x_test)"
   ]
  },
  {
   "cell_type": "code",
   "execution_count": 84,
   "id": "83894a8d",
   "metadata": {},
   "outputs": [
    {
     "data": {
      "text/plain": [
       "array([0, 1, 0, ..., 0, 0, 0], dtype=int64)"
      ]
     },
     "execution_count": 84,
     "metadata": {},
     "output_type": "execute_result"
    }
   ],
   "source": [
    "predictions"
   ]
  },
  {
   "cell_type": "code",
   "execution_count": 85,
   "id": "2a4a5144",
   "metadata": {},
   "outputs": [],
   "source": [
    "prob = classifier.predict_proba(x_test)"
   ]
  },
  {
   "cell_type": "code",
   "execution_count": 86,
   "id": "c1bfbb57",
   "metadata": {},
   "outputs": [],
   "source": [
    "from sklearn.metrics import roc_curve\n",
    "fpr, tpr, threshold = roc_curve(y_test, prob[:,1])"
   ]
  },
  {
   "cell_type": "code",
   "execution_count": 87,
   "id": "97751827",
   "metadata": {},
   "outputs": [],
   "source": [
    "from sklearn.metrics import classification_report, confusion_matrix"
   ]
  },
  {
   "cell_type": "code",
   "execution_count": 88,
   "id": "f776a6ef",
   "metadata": {},
   "outputs": [
    {
     "name": "stdout",
     "output_type": "stream",
     "text": [
      "              precision    recall  f1-score   support\n",
      "\n",
      "           0       0.91      0.92      0.91     97450\n",
      "           1       0.63      0.61      0.62     22550\n",
      "\n",
      "    accuracy                           0.86    120000\n",
      "   macro avg       0.77      0.76      0.77    120000\n",
      "weighted avg       0.86      0.86      0.86    120000\n",
      "\n"
     ]
    }
   ],
   "source": [
    "print(classification_report(y_test,predictions))"
   ]
  },
  {
   "cell_type": "markdown",
   "id": "d151fb30",
   "metadata": {},
   "source": [
    "## MODELLING WITH RANDOM FOREST"
   ]
  },
  {
   "cell_type": "code",
   "execution_count": 89,
   "id": "181407a8",
   "metadata": {},
   "outputs": [
    {
     "data": {
      "text/plain": [
       "RandomForestClassifier(criterion='entropy', n_estimators=10, random_state=0)"
      ]
     },
     "execution_count": 89,
     "metadata": {},
     "output_type": "execute_result"
    }
   ],
   "source": [
    "from sklearn.ensemble import RandomForestClassifier\n",
    "classifier = RandomForestClassifier(n_estimators = 10, criterion = 'entropy', random_state = 0)\n",
    "classifier.fit(x_train, y_train)"
   ]
  },
  {
   "cell_type": "code",
   "execution_count": 90,
   "id": "7c0d4c8e",
   "metadata": {},
   "outputs": [],
   "source": [
    "predictions = classifier.predict(x_test)"
   ]
  },
  {
   "cell_type": "code",
   "execution_count": 91,
   "id": "55bac398",
   "metadata": {},
   "outputs": [
    {
     "data": {
      "text/plain": [
       "array([0, 0, 0, ..., 0, 0, 0], dtype=int64)"
      ]
     },
     "execution_count": 91,
     "metadata": {},
     "output_type": "execute_result"
    }
   ],
   "source": [
    "predictions"
   ]
  },
  {
   "cell_type": "code",
   "execution_count": 92,
   "id": "bd45c64a",
   "metadata": {},
   "outputs": [],
   "source": [
    "prob = classifier.predict_proba(x_test)"
   ]
  },
  {
   "cell_type": "code",
   "execution_count": 93,
   "id": "5c05a3c3",
   "metadata": {},
   "outputs": [],
   "source": [
    "from sklearn.metrics import roc_curve\n",
    "fpr, tpr, threshold = roc_curve(y_test, prob[:,1])"
   ]
  },
  {
   "cell_type": "code",
   "execution_count": 94,
   "id": "c52e51a7",
   "metadata": {},
   "outputs": [],
   "source": [
    "y_pred = classifier.predict(x_test)"
   ]
  },
  {
   "cell_type": "code",
   "execution_count": 95,
   "id": "b5cb6ce5",
   "metadata": {},
   "outputs": [],
   "source": [
    "from sklearn.metrics import classification_report, confusion_matrix, auc"
   ]
  },
  {
   "cell_type": "code",
   "execution_count": 96,
   "id": "616ee5c1",
   "metadata": {},
   "outputs": [
    {
     "name": "stdout",
     "output_type": "stream",
     "text": [
      "              precision    recall  f1-score   support\n",
      "\n",
      "           0       0.88      0.93      0.91     97450\n",
      "           1       0.62      0.46      0.52     22550\n",
      "\n",
      "    accuracy                           0.84    120000\n",
      "   macro avg       0.75      0.70      0.72    120000\n",
      "weighted avg       0.83      0.84      0.84    120000\n",
      "\n"
     ]
    }
   ],
   "source": [
    "print(classification_report(y_test,predictions))"
   ]
  },
  {
   "cell_type": "markdown",
   "id": "aea99dfe",
   "metadata": {},
   "source": [
    "## MODELLING WITH XGBOOST"
   ]
  },
  {
   "cell_type": "code",
   "execution_count": 97,
   "id": "bdf7f864",
   "metadata": {},
   "outputs": [],
   "source": [
    "import xgboost as xgb\n",
    "from xgboost import XGBClassifier\n",
    "\n",
    "xgboost = XGBClassifier()\n",
    "xgb = xgboost.fit( x_train, y_train)\n",
    "y_pred = xgb.predict(x_test)"
   ]
  },
  {
   "cell_type": "code",
   "execution_count": 98,
   "id": "2983de36",
   "metadata": {},
   "outputs": [],
   "source": [
    "predictions = xgboost.predict(x_test)"
   ]
  },
  {
   "cell_type": "code",
   "execution_count": 99,
   "id": "e2556d98",
   "metadata": {},
   "outputs": [
    {
     "data": {
      "text/plain": [
       "array([0, 0, 0, ..., 0, 0, 0])"
      ]
     },
     "execution_count": 99,
     "metadata": {},
     "output_type": "execute_result"
    }
   ],
   "source": [
    "predictions"
   ]
  },
  {
   "cell_type": "code",
   "execution_count": 100,
   "id": "fc48bdfb",
   "metadata": {},
   "outputs": [],
   "source": [
    "prob = xgboost.predict_proba(x_test)"
   ]
  },
  {
   "cell_type": "code",
   "execution_count": 101,
   "id": "66be458b",
   "metadata": {},
   "outputs": [
    {
     "name": "stdout",
     "output_type": "stream",
     "text": [
      "              precision    recall  f1-score   support\n",
      "\n",
      "           0       0.90      0.93      0.92     97450\n",
      "           1       0.65      0.55      0.60     22550\n",
      "\n",
      "    accuracy                           0.86    120000\n",
      "   macro avg       0.78      0.74      0.76    120000\n",
      "weighted avg       0.85      0.86      0.86    120000\n",
      "\n"
     ]
    }
   ],
   "source": [
    "print(classification_report(y_test,predictions))"
   ]
  },
  {
   "cell_type": "code",
   "execution_count": 102,
   "id": "7b912737",
   "metadata": {},
   "outputs": [
    {
     "name": "stdout",
     "output_type": "stream",
     "text": [
      "Learning rate set to 0.114254\n",
      "0:\tlearn: 0.5756279\ttotal: 978ms\tremaining: 16m 17s\n",
      "1:\tlearn: 0.5004498\ttotal: 1.17s\tremaining: 9m 44s\n",
      "2:\tlearn: 0.4482748\ttotal: 1.38s\tremaining: 7m 40s\n",
      "3:\tlearn: 0.4093124\ttotal: 1.6s\tremaining: 6m 39s\n",
      "4:\tlearn: 0.3799031\ttotal: 1.81s\tremaining: 6m 1s\n",
      "5:\tlearn: 0.3577663\ttotal: 2.02s\tremaining: 5m 35s\n",
      "6:\tlearn: 0.3457624\ttotal: 2.22s\tremaining: 5m 14s\n",
      "7:\tlearn: 0.3366180\ttotal: 2.37s\tremaining: 4m 54s\n",
      "8:\tlearn: 0.3287677\ttotal: 2.54s\tremaining: 4m 39s\n",
      "9:\tlearn: 0.3225051\ttotal: 2.71s\tremaining: 4m 28s\n",
      "10:\tlearn: 0.3189266\ttotal: 2.89s\tremaining: 4m 19s\n",
      "11:\tlearn: 0.3149821\ttotal: 3.05s\tremaining: 4m 10s\n",
      "12:\tlearn: 0.3119324\ttotal: 3.21s\tremaining: 4m 3s\n",
      "13:\tlearn: 0.3106148\ttotal: 3.38s\tremaining: 3m 57s\n",
      "14:\tlearn: 0.3082064\ttotal: 3.54s\tremaining: 3m 52s\n",
      "15:\tlearn: 0.3064229\ttotal: 3.72s\tremaining: 3m 49s\n",
      "16:\tlearn: 0.3056613\ttotal: 3.91s\tremaining: 3m 46s\n",
      "17:\tlearn: 0.3045227\ttotal: 4.07s\tremaining: 3m 42s\n",
      "18:\tlearn: 0.3041140\ttotal: 4.25s\tremaining: 3m 39s\n",
      "19:\tlearn: 0.3034003\ttotal: 4.43s\tremaining: 3m 37s\n",
      "20:\tlearn: 0.3027893\ttotal: 4.61s\tremaining: 3m 34s\n",
      "21:\tlearn: 0.3025747\ttotal: 4.78s\tremaining: 3m 32s\n",
      "22:\tlearn: 0.3023357\ttotal: 4.94s\tremaining: 3m 29s\n",
      "23:\tlearn: 0.3019196\ttotal: 5.11s\tremaining: 3m 27s\n",
      "24:\tlearn: 0.3016748\ttotal: 5.28s\tremaining: 3m 25s\n",
      "25:\tlearn: 0.3014552\ttotal: 5.45s\tremaining: 3m 24s\n",
      "26:\tlearn: 0.3012407\ttotal: 5.62s\tremaining: 3m 22s\n",
      "27:\tlearn: 0.3010220\ttotal: 5.79s\tremaining: 3m 20s\n",
      "28:\tlearn: 0.3008924\ttotal: 5.97s\tremaining: 3m 19s\n",
      "29:\tlearn: 0.3007030\ttotal: 6.16s\tremaining: 3m 19s\n",
      "30:\tlearn: 0.3005109\ttotal: 6.35s\tremaining: 3m 18s\n",
      "31:\tlearn: 0.3003291\ttotal: 6.53s\tremaining: 3m 17s\n",
      "32:\tlearn: 0.3002868\ttotal: 6.69s\tremaining: 3m 16s\n",
      "33:\tlearn: 0.3001670\ttotal: 6.89s\tremaining: 3m 15s\n",
      "34:\tlearn: 0.3000521\ttotal: 7.08s\tremaining: 3m 15s\n",
      "35:\tlearn: 0.2999996\ttotal: 7.29s\tremaining: 3m 15s\n",
      "36:\tlearn: 0.2999514\ttotal: 7.46s\tremaining: 3m 14s\n",
      "37:\tlearn: 0.2999110\ttotal: 7.63s\tremaining: 3m 13s\n",
      "38:\tlearn: 0.2998292\ttotal: 7.8s\tremaining: 3m 12s\n",
      "39:\tlearn: 0.2997393\ttotal: 7.99s\tremaining: 3m 11s\n",
      "40:\tlearn: 0.2997001\ttotal: 8.21s\tremaining: 3m 12s\n",
      "41:\tlearn: 0.2996756\ttotal: 8.4s\tremaining: 3m 11s\n",
      "42:\tlearn: 0.2996096\ttotal: 8.59s\tremaining: 3m 11s\n",
      "43:\tlearn: 0.2995678\ttotal: 8.77s\tremaining: 3m 10s\n",
      "44:\tlearn: 0.2995539\ttotal: 8.96s\tremaining: 3m 10s\n",
      "45:\tlearn: 0.2995020\ttotal: 9.15s\tremaining: 3m 9s\n",
      "46:\tlearn: 0.2994346\ttotal: 9.32s\tremaining: 3m 9s\n",
      "47:\tlearn: 0.2993873\ttotal: 9.49s\tremaining: 3m 8s\n",
      "48:\tlearn: 0.2993267\ttotal: 9.69s\tremaining: 3m 8s\n",
      "49:\tlearn: 0.2992875\ttotal: 9.87s\tremaining: 3m 7s\n",
      "50:\tlearn: 0.2992569\ttotal: 10.1s\tremaining: 3m 7s\n",
      "51:\tlearn: 0.2992236\ttotal: 10.2s\tremaining: 3m 6s\n",
      "52:\tlearn: 0.2991455\ttotal: 10.4s\tremaining: 3m 6s\n",
      "53:\tlearn: 0.2990988\ttotal: 10.6s\tremaining: 3m 6s\n",
      "54:\tlearn: 0.2990610\ttotal: 10.9s\tremaining: 3m 7s\n",
      "55:\tlearn: 0.2990074\ttotal: 11.1s\tremaining: 3m 7s\n",
      "56:\tlearn: 0.2989854\ttotal: 11.5s\tremaining: 3m 10s\n",
      "57:\tlearn: 0.2989497\ttotal: 11.9s\tremaining: 3m 12s\n",
      "58:\tlearn: 0.2989129\ttotal: 12.1s\tremaining: 3m 13s\n",
      "59:\tlearn: 0.2988687\ttotal: 12.4s\tremaining: 3m 13s\n",
      "60:\tlearn: 0.2988422\ttotal: 12.6s\tremaining: 3m 14s\n",
      "61:\tlearn: 0.2987863\ttotal: 12.8s\tremaining: 3m 14s\n",
      "62:\tlearn: 0.2987423\ttotal: 13.1s\tremaining: 3m 14s\n",
      "63:\tlearn: 0.2986976\ttotal: 13.3s\tremaining: 3m 15s\n",
      "64:\tlearn: 0.2986483\ttotal: 13.6s\tremaining: 3m 15s\n",
      "65:\tlearn: 0.2985948\ttotal: 13.8s\tremaining: 3m 14s\n",
      "66:\tlearn: 0.2985649\ttotal: 13.9s\tremaining: 3m 14s\n",
      "67:\tlearn: 0.2985383\ttotal: 14.1s\tremaining: 3m 13s\n",
      "68:\tlearn: 0.2985063\ttotal: 14.2s\tremaining: 3m 11s\n",
      "69:\tlearn: 0.2984891\ttotal: 14.4s\tremaining: 3m 11s\n",
      "70:\tlearn: 0.2984725\ttotal: 14.5s\tremaining: 3m 9s\n",
      "71:\tlearn: 0.2984354\ttotal: 14.6s\tremaining: 3m 8s\n",
      "72:\tlearn: 0.2984125\ttotal: 14.8s\tremaining: 3m 7s\n",
      "73:\tlearn: 0.2983671\ttotal: 14.9s\tremaining: 3m 6s\n",
      "74:\tlearn: 0.2983176\ttotal: 15.1s\tremaining: 3m 5s\n",
      "75:\tlearn: 0.2982885\ttotal: 15.2s\tremaining: 3m 4s\n",
      "76:\tlearn: 0.2982777\ttotal: 15.3s\tremaining: 3m 3s\n",
      "77:\tlearn: 0.2982610\ttotal: 15.5s\tremaining: 3m 3s\n",
      "78:\tlearn: 0.2982141\ttotal: 15.7s\tremaining: 3m 2s\n",
      "79:\tlearn: 0.2981789\ttotal: 15.9s\tremaining: 3m 2s\n",
      "80:\tlearn: 0.2981731\ttotal: 16.1s\tremaining: 3m 2s\n",
      "81:\tlearn: 0.2981393\ttotal: 16.3s\tremaining: 3m 2s\n",
      "82:\tlearn: 0.2981282\ttotal: 16.5s\tremaining: 3m 1s\n",
      "83:\tlearn: 0.2981040\ttotal: 16.7s\tremaining: 3m 2s\n",
      "84:\tlearn: 0.2980779\ttotal: 16.9s\tremaining: 3m 2s\n",
      "85:\tlearn: 0.2980617\ttotal: 17.1s\tremaining: 3m 2s\n",
      "86:\tlearn: 0.2980385\ttotal: 17.4s\tremaining: 3m 2s\n",
      "87:\tlearn: 0.2979842\ttotal: 17.6s\tremaining: 3m 2s\n",
      "88:\tlearn: 0.2979476\ttotal: 17.9s\tremaining: 3m 3s\n",
      "89:\tlearn: 0.2979262\ttotal: 18.3s\tremaining: 3m 4s\n",
      "90:\tlearn: 0.2979081\ttotal: 18.6s\tremaining: 3m 5s\n",
      "91:\tlearn: 0.2978926\ttotal: 18.9s\tremaining: 3m 6s\n",
      "92:\tlearn: 0.2978682\ttotal: 19.2s\tremaining: 3m 7s\n",
      "93:\tlearn: 0.2978443\ttotal: 19.5s\tremaining: 3m 7s\n",
      "94:\tlearn: 0.2978331\ttotal: 19.6s\tremaining: 3m 7s\n",
      "95:\tlearn: 0.2977979\ttotal: 19.8s\tremaining: 3m 6s\n",
      "96:\tlearn: 0.2977524\ttotal: 20s\tremaining: 3m 6s\n",
      "97:\tlearn: 0.2977326\ttotal: 20.2s\tremaining: 3m 6s\n",
      "98:\tlearn: 0.2977066\ttotal: 20.4s\tremaining: 3m 5s\n",
      "99:\tlearn: 0.2976560\ttotal: 20.7s\tremaining: 3m 5s\n",
      "100:\tlearn: 0.2976408\ttotal: 20.9s\tremaining: 3m 5s\n",
      "101:\tlearn: 0.2976264\ttotal: 21s\tremaining: 3m 5s\n",
      "102:\tlearn: 0.2975978\ttotal: 21.3s\tremaining: 3m 5s\n",
      "103:\tlearn: 0.2975709\ttotal: 21.5s\tremaining: 3m 5s\n",
      "104:\tlearn: 0.2975553\ttotal: 21.7s\tremaining: 3m 5s\n",
      "105:\tlearn: 0.2975163\ttotal: 22s\tremaining: 3m 5s\n",
      "106:\tlearn: 0.2974884\ttotal: 22.2s\tremaining: 3m 5s\n",
      "107:\tlearn: 0.2974700\ttotal: 22.4s\tremaining: 3m 5s\n",
      "108:\tlearn: 0.2974296\ttotal: 22.6s\tremaining: 3m 4s\n",
      "109:\tlearn: 0.2974067\ttotal: 22.8s\tremaining: 3m 4s\n",
      "110:\tlearn: 0.2973848\ttotal: 23s\tremaining: 3m 4s\n",
      "111:\tlearn: 0.2973552\ttotal: 23.2s\tremaining: 3m 4s\n",
      "112:\tlearn: 0.2973348\ttotal: 23.4s\tremaining: 3m 3s\n",
      "113:\tlearn: 0.2973164\ttotal: 23.6s\tremaining: 3m 3s\n",
      "114:\tlearn: 0.2972961\ttotal: 23.8s\tremaining: 3m 2s\n",
      "115:\tlearn: 0.2972661\ttotal: 24s\tremaining: 3m 2s\n",
      "116:\tlearn: 0.2972159\ttotal: 24.2s\tremaining: 3m 2s\n",
      "117:\tlearn: 0.2971899\ttotal: 24.4s\tremaining: 3m 2s\n",
      "118:\tlearn: 0.2971589\ttotal: 24.6s\tremaining: 3m 2s\n",
      "119:\tlearn: 0.2971290\ttotal: 24.8s\tremaining: 3m 2s\n",
      "120:\tlearn: 0.2971118\ttotal: 25s\tremaining: 3m 1s\n",
      "121:\tlearn: 0.2970764\ttotal: 25.2s\tremaining: 3m 1s\n",
      "122:\tlearn: 0.2970514\ttotal: 25.4s\tremaining: 3m 1s\n",
      "123:\tlearn: 0.2970251\ttotal: 25.6s\tremaining: 3m\n",
      "124:\tlearn: 0.2969982\ttotal: 25.8s\tremaining: 3m\n",
      "125:\tlearn: 0.2969727\ttotal: 26s\tremaining: 3m\n",
      "126:\tlearn: 0.2969424\ttotal: 26.2s\tremaining: 2m 59s\n",
      "127:\tlearn: 0.2969122\ttotal: 26.4s\tremaining: 2m 59s\n",
      "128:\tlearn: 0.2968935\ttotal: 26.6s\tremaining: 2m 59s\n",
      "129:\tlearn: 0.2968651\ttotal: 26.8s\tremaining: 2m 59s\n",
      "130:\tlearn: 0.2968397\ttotal: 27s\tremaining: 2m 59s\n",
      "131:\tlearn: 0.2968179\ttotal: 27.2s\tremaining: 2m 58s\n",
      "132:\tlearn: 0.2967815\ttotal: 27.4s\tremaining: 2m 58s\n",
      "133:\tlearn: 0.2967571\ttotal: 27.6s\tremaining: 2m 58s\n",
      "134:\tlearn: 0.2967290\ttotal: 27.8s\tremaining: 2m 57s\n",
      "135:\tlearn: 0.2966960\ttotal: 28s\tremaining: 2m 57s\n",
      "136:\tlearn: 0.2966584\ttotal: 28.2s\tremaining: 2m 57s\n",
      "137:\tlearn: 0.2966312\ttotal: 28.4s\tremaining: 2m 57s\n",
      "138:\tlearn: 0.2965993\ttotal: 28.6s\tremaining: 2m 57s\n",
      "139:\tlearn: 0.2965843\ttotal: 28.8s\tremaining: 2m 56s\n",
      "140:\tlearn: 0.2965602\ttotal: 29s\tremaining: 2m 56s\n",
      "141:\tlearn: 0.2965420\ttotal: 29.2s\tremaining: 2m 56s\n",
      "142:\tlearn: 0.2965138\ttotal: 29.4s\tremaining: 2m 56s\n",
      "143:\tlearn: 0.2964904\ttotal: 29.6s\tremaining: 2m 55s\n",
      "144:\tlearn: 0.2964550\ttotal: 29.8s\tremaining: 2m 55s\n",
      "145:\tlearn: 0.2964268\ttotal: 30s\tremaining: 2m 55s\n",
      "146:\tlearn: 0.2963990\ttotal: 30.2s\tremaining: 2m 54s\n",
      "147:\tlearn: 0.2963817\ttotal: 30.3s\tremaining: 2m 54s\n",
      "148:\tlearn: 0.2963599\ttotal: 30.6s\tremaining: 2m 54s\n",
      "149:\tlearn: 0.2963319\ttotal: 30.7s\tremaining: 2m 54s\n",
      "150:\tlearn: 0.2963091\ttotal: 30.9s\tremaining: 2m 53s\n",
      "151:\tlearn: 0.2962696\ttotal: 31.1s\tremaining: 2m 53s\n",
      "152:\tlearn: 0.2962370\ttotal: 31.3s\tremaining: 2m 53s\n",
      "153:\tlearn: 0.2962047\ttotal: 31.5s\tremaining: 2m 53s\n",
      "154:\tlearn: 0.2961775\ttotal: 31.7s\tremaining: 2m 52s\n",
      "155:\tlearn: 0.2961355\ttotal: 31.9s\tremaining: 2m 52s\n",
      "156:\tlearn: 0.2961082\ttotal: 32.1s\tremaining: 2m 52s\n",
      "157:\tlearn: 0.2960833\ttotal: 32.4s\tremaining: 2m 52s\n",
      "158:\tlearn: 0.2960554\ttotal: 32.7s\tremaining: 2m 53s\n"
     ]
    },
    {
     "name": "stdout",
     "output_type": "stream",
     "text": [
      "159:\tlearn: 0.2960324\ttotal: 33s\tremaining: 2m 53s\n",
      "160:\tlearn: 0.2960079\ttotal: 33.4s\tremaining: 2m 53s\n",
      "161:\tlearn: 0.2959901\ttotal: 33.6s\tremaining: 2m 53s\n",
      "162:\tlearn: 0.2959689\ttotal: 33.9s\tremaining: 2m 54s\n",
      "163:\tlearn: 0.2959425\ttotal: 34.2s\tremaining: 2m 54s\n",
      "164:\tlearn: 0.2959228\ttotal: 34.4s\tremaining: 2m 54s\n",
      "165:\tlearn: 0.2959066\ttotal: 34.6s\tremaining: 2m 53s\n",
      "166:\tlearn: 0.2958846\ttotal: 34.8s\tremaining: 2m 53s\n",
      "167:\tlearn: 0.2958574\ttotal: 35s\tremaining: 2m 53s\n",
      "168:\tlearn: 0.2958351\ttotal: 35.2s\tremaining: 2m 53s\n",
      "169:\tlearn: 0.2957921\ttotal: 35.4s\tremaining: 2m 52s\n",
      "170:\tlearn: 0.2957693\ttotal: 35.6s\tremaining: 2m 52s\n",
      "171:\tlearn: 0.2957462\ttotal: 35.8s\tremaining: 2m 52s\n",
      "172:\tlearn: 0.2957153\ttotal: 36s\tremaining: 2m 52s\n",
      "173:\tlearn: 0.2956930\ttotal: 36.2s\tremaining: 2m 51s\n",
      "174:\tlearn: 0.2956646\ttotal: 36.4s\tremaining: 2m 51s\n",
      "175:\tlearn: 0.2956395\ttotal: 36.6s\tremaining: 2m 51s\n",
      "176:\tlearn: 0.2956172\ttotal: 36.8s\tremaining: 2m 50s\n",
      "177:\tlearn: 0.2955878\ttotal: 36.9s\tremaining: 2m 50s\n",
      "178:\tlearn: 0.2955645\ttotal: 37.1s\tremaining: 2m 50s\n",
      "179:\tlearn: 0.2955338\ttotal: 37.2s\tremaining: 2m 49s\n",
      "180:\tlearn: 0.2955094\ttotal: 37.4s\tremaining: 2m 49s\n",
      "181:\tlearn: 0.2954887\ttotal: 37.6s\tremaining: 2m 48s\n",
      "182:\tlearn: 0.2954688\ttotal: 37.7s\tremaining: 2m 48s\n",
      "183:\tlearn: 0.2954513\ttotal: 37.9s\tremaining: 2m 47s\n",
      "184:\tlearn: 0.2954043\ttotal: 38.1s\tremaining: 2m 47s\n",
      "185:\tlearn: 0.2953742\ttotal: 38.2s\tremaining: 2m 47s\n",
      "186:\tlearn: 0.2953446\ttotal: 38.4s\tremaining: 2m 46s\n",
      "187:\tlearn: 0.2953110\ttotal: 38.6s\tremaining: 2m 46s\n",
      "188:\tlearn: 0.2952898\ttotal: 38.8s\tremaining: 2m 46s\n",
      "189:\tlearn: 0.2952734\ttotal: 39s\tremaining: 2m 46s\n",
      "190:\tlearn: 0.2952565\ttotal: 39.1s\tremaining: 2m 45s\n",
      "191:\tlearn: 0.2952342\ttotal: 39.2s\tremaining: 2m 45s\n",
      "192:\tlearn: 0.2952108\ttotal: 39.4s\tremaining: 2m 44s\n",
      "193:\tlearn: 0.2951898\ttotal: 39.7s\tremaining: 2m 44s\n",
      "194:\tlearn: 0.2951710\ttotal: 39.8s\tremaining: 2m 44s\n",
      "195:\tlearn: 0.2951552\ttotal: 40s\tremaining: 2m 43s\n",
      "196:\tlearn: 0.2951349\ttotal: 40.1s\tremaining: 2m 43s\n",
      "197:\tlearn: 0.2951177\ttotal: 40.2s\tremaining: 2m 42s\n",
      "198:\tlearn: 0.2950946\ttotal: 40.3s\tremaining: 2m 42s\n",
      "199:\tlearn: 0.2950637\ttotal: 40.5s\tremaining: 2m 41s\n",
      "200:\tlearn: 0.2950354\ttotal: 40.6s\tremaining: 2m 41s\n",
      "201:\tlearn: 0.2950114\ttotal: 40.7s\tremaining: 2m 40s\n",
      "202:\tlearn: 0.2949836\ttotal: 40.9s\tremaining: 2m 40s\n",
      "203:\tlearn: 0.2949609\ttotal: 41s\tremaining: 2m 39s\n",
      "204:\tlearn: 0.2949337\ttotal: 41.1s\tremaining: 2m 39s\n",
      "205:\tlearn: 0.2949169\ttotal: 41.3s\tremaining: 2m 39s\n",
      "206:\tlearn: 0.2949069\ttotal: 41.4s\tremaining: 2m 38s\n",
      "207:\tlearn: 0.2948785\ttotal: 41.5s\tremaining: 2m 38s\n",
      "208:\tlearn: 0.2948479\ttotal: 41.7s\tremaining: 2m 37s\n",
      "209:\tlearn: 0.2948207\ttotal: 41.8s\tremaining: 2m 37s\n",
      "210:\tlearn: 0.2947916\ttotal: 41.9s\tremaining: 2m 36s\n",
      "211:\tlearn: 0.2947671\ttotal: 42.1s\tremaining: 2m 36s\n",
      "212:\tlearn: 0.2947503\ttotal: 42.2s\tremaining: 2m 35s\n",
      "213:\tlearn: 0.2947312\ttotal: 42.3s\tremaining: 2m 35s\n",
      "214:\tlearn: 0.2947170\ttotal: 42.4s\tremaining: 2m 34s\n",
      "215:\tlearn: 0.2947092\ttotal: 42.6s\tremaining: 2m 34s\n",
      "216:\tlearn: 0.2946864\ttotal: 42.7s\tremaining: 2m 34s\n",
      "217:\tlearn: 0.2946670\ttotal: 42.8s\tremaining: 2m 33s\n",
      "218:\tlearn: 0.2946558\ttotal: 43s\tremaining: 2m 33s\n",
      "219:\tlearn: 0.2946285\ttotal: 43.1s\tremaining: 2m 32s\n",
      "220:\tlearn: 0.2946092\ttotal: 43.2s\tremaining: 2m 32s\n",
      "221:\tlearn: 0.2945853\ttotal: 43.3s\tremaining: 2m 31s\n",
      "222:\tlearn: 0.2945571\ttotal: 43.5s\tremaining: 2m 31s\n",
      "223:\tlearn: 0.2945384\ttotal: 43.6s\tremaining: 2m 31s\n",
      "224:\tlearn: 0.2945292\ttotal: 43.7s\tremaining: 2m 30s\n",
      "225:\tlearn: 0.2945030\ttotal: 43.9s\tremaining: 2m 30s\n",
      "226:\tlearn: 0.2944796\ttotal: 44s\tremaining: 2m 29s\n",
      "227:\tlearn: 0.2944561\ttotal: 44.1s\tremaining: 2m 29s\n",
      "228:\tlearn: 0.2944326\ttotal: 44.3s\tremaining: 2m 28s\n",
      "229:\tlearn: 0.2944046\ttotal: 44.4s\tremaining: 2m 28s\n",
      "230:\tlearn: 0.2943910\ttotal: 44.5s\tremaining: 2m 28s\n",
      "231:\tlearn: 0.2943735\ttotal: 44.7s\tremaining: 2m 27s\n",
      "232:\tlearn: 0.2943549\ttotal: 44.8s\tremaining: 2m 27s\n",
      "233:\tlearn: 0.2943239\ttotal: 44.9s\tremaining: 2m 27s\n",
      "234:\tlearn: 0.2943150\ttotal: 45s\tremaining: 2m 26s\n",
      "235:\tlearn: 0.2942977\ttotal: 45.2s\tremaining: 2m 26s\n",
      "236:\tlearn: 0.2942780\ttotal: 45.3s\tremaining: 2m 25s\n",
      "237:\tlearn: 0.2942211\ttotal: 45.4s\tremaining: 2m 25s\n",
      "238:\tlearn: 0.2941978\ttotal: 45.6s\tremaining: 2m 25s\n",
      "239:\tlearn: 0.2941538\ttotal: 45.7s\tremaining: 2m 24s\n",
      "240:\tlearn: 0.2941302\ttotal: 45.8s\tremaining: 2m 24s\n",
      "241:\tlearn: 0.2941080\ttotal: 46s\tremaining: 2m 23s\n",
      "242:\tlearn: 0.2940960\ttotal: 46.1s\tremaining: 2m 23s\n",
      "243:\tlearn: 0.2940683\ttotal: 46.2s\tremaining: 2m 23s\n",
      "244:\tlearn: 0.2940467\ttotal: 46.3s\tremaining: 2m 22s\n",
      "245:\tlearn: 0.2940143\ttotal: 46.5s\tremaining: 2m 22s\n",
      "246:\tlearn: 0.2939942\ttotal: 46.6s\tremaining: 2m 22s\n",
      "247:\tlearn: 0.2939523\ttotal: 46.7s\tremaining: 2m 21s\n",
      "248:\tlearn: 0.2939349\ttotal: 46.9s\tremaining: 2m 21s\n",
      "249:\tlearn: 0.2939159\ttotal: 47s\tremaining: 2m 20s\n",
      "250:\tlearn: 0.2938853\ttotal: 47.1s\tremaining: 2m 20s\n",
      "251:\tlearn: 0.2938660\ttotal: 47.3s\tremaining: 2m 20s\n",
      "252:\tlearn: 0.2938574\ttotal: 47.4s\tremaining: 2m 19s\n",
      "253:\tlearn: 0.2938454\ttotal: 47.5s\tremaining: 2m 19s\n",
      "254:\tlearn: 0.2938248\ttotal: 47.6s\tremaining: 2m 19s\n",
      "255:\tlearn: 0.2938014\ttotal: 47.8s\tremaining: 2m 18s\n",
      "256:\tlearn: 0.2937749\ttotal: 47.9s\tremaining: 2m 18s\n",
      "257:\tlearn: 0.2937473\ttotal: 48s\tremaining: 2m 18s\n",
      "258:\tlearn: 0.2937296\ttotal: 48.2s\tremaining: 2m 17s\n",
      "259:\tlearn: 0.2937068\ttotal: 48.3s\tremaining: 2m 17s\n",
      "260:\tlearn: 0.2936899\ttotal: 48.5s\tremaining: 2m 17s\n",
      "261:\tlearn: 0.2936718\ttotal: 48.7s\tremaining: 2m 17s\n",
      "262:\tlearn: 0.2936554\ttotal: 48.8s\tremaining: 2m 16s\n",
      "263:\tlearn: 0.2936360\ttotal: 49s\tremaining: 2m 16s\n",
      "264:\tlearn: 0.2936086\ttotal: 49.1s\tremaining: 2m 16s\n",
      "265:\tlearn: 0.2935858\ttotal: 49.2s\tremaining: 2m 15s\n",
      "266:\tlearn: 0.2935604\ttotal: 49.4s\tremaining: 2m 15s\n",
      "267:\tlearn: 0.2935335\ttotal: 49.5s\tremaining: 2m 15s\n",
      "268:\tlearn: 0.2935116\ttotal: 49.6s\tremaining: 2m 14s\n",
      "269:\tlearn: 0.2934969\ttotal: 49.7s\tremaining: 2m 14s\n",
      "270:\tlearn: 0.2934741\ttotal: 49.9s\tremaining: 2m 14s\n",
      "271:\tlearn: 0.2934527\ttotal: 50s\tremaining: 2m 13s\n",
      "272:\tlearn: 0.2934198\ttotal: 50.1s\tremaining: 2m 13s\n",
      "273:\tlearn: 0.2933935\ttotal: 50.3s\tremaining: 2m 13s\n",
      "274:\tlearn: 0.2933810\ttotal: 50.4s\tremaining: 2m 12s\n",
      "275:\tlearn: 0.2933554\ttotal: 50.5s\tremaining: 2m 12s\n",
      "276:\tlearn: 0.2933380\ttotal: 50.7s\tremaining: 2m 12s\n",
      "277:\tlearn: 0.2933301\ttotal: 50.8s\tremaining: 2m 11s\n",
      "278:\tlearn: 0.2933152\ttotal: 50.9s\tremaining: 2m 11s\n",
      "279:\tlearn: 0.2932999\ttotal: 51.1s\tremaining: 2m 11s\n",
      "280:\tlearn: 0.2932655\ttotal: 51.2s\tremaining: 2m 11s\n",
      "281:\tlearn: 0.2932384\ttotal: 51.3s\tremaining: 2m 10s\n",
      "282:\tlearn: 0.2932083\ttotal: 51.5s\tremaining: 2m 10s\n",
      "283:\tlearn: 0.2931929\ttotal: 51.6s\tremaining: 2m 10s\n",
      "284:\tlearn: 0.2931668\ttotal: 51.7s\tremaining: 2m 9s\n",
      "285:\tlearn: 0.2931470\ttotal: 51.9s\tremaining: 2m 9s\n",
      "286:\tlearn: 0.2931435\ttotal: 52s\tremaining: 2m 9s\n",
      "287:\tlearn: 0.2931176\ttotal: 52.1s\tremaining: 2m 8s\n",
      "288:\tlearn: 0.2930901\ttotal: 52.2s\tremaining: 2m 8s\n",
      "289:\tlearn: 0.2930790\ttotal: 52.4s\tremaining: 2m 8s\n",
      "290:\tlearn: 0.2930579\ttotal: 52.6s\tremaining: 2m 8s\n",
      "291:\tlearn: 0.2930419\ttotal: 52.7s\tremaining: 2m 7s\n",
      "292:\tlearn: 0.2930219\ttotal: 52.9s\tremaining: 2m 7s\n",
      "293:\tlearn: 0.2929997\ttotal: 53.1s\tremaining: 2m 7s\n",
      "294:\tlearn: 0.2929775\ttotal: 53.2s\tremaining: 2m 7s\n",
      "295:\tlearn: 0.2929657\ttotal: 53.4s\tremaining: 2m 7s\n",
      "296:\tlearn: 0.2929488\ttotal: 53.6s\tremaining: 2m 6s\n",
      "297:\tlearn: 0.2929294\ttotal: 53.8s\tremaining: 2m 6s\n",
      "298:\tlearn: 0.2929044\ttotal: 53.9s\tremaining: 2m 6s\n",
      "299:\tlearn: 0.2928771\ttotal: 54.1s\tremaining: 2m 6s\n",
      "300:\tlearn: 0.2928574\ttotal: 54.2s\tremaining: 2m 5s\n",
      "301:\tlearn: 0.2928351\ttotal: 54.4s\tremaining: 2m 5s\n",
      "302:\tlearn: 0.2928137\ttotal: 54.6s\tremaining: 2m 5s\n",
      "303:\tlearn: 0.2928017\ttotal: 54.8s\tremaining: 2m 5s\n",
      "304:\tlearn: 0.2927849\ttotal: 55s\tremaining: 2m 5s\n",
      "305:\tlearn: 0.2927661\ttotal: 55.2s\tremaining: 2m 5s\n",
      "306:\tlearn: 0.2927588\ttotal: 55.4s\tremaining: 2m 5s\n",
      "307:\tlearn: 0.2927368\ttotal: 55.6s\tremaining: 2m 4s\n",
      "308:\tlearn: 0.2927113\ttotal: 55.8s\tremaining: 2m 4s\n",
      "309:\tlearn: 0.2926946\ttotal: 55.9s\tremaining: 2m 4s\n",
      "310:\tlearn: 0.2926713\ttotal: 56.1s\tremaining: 2m 4s\n",
      "311:\tlearn: 0.2926547\ttotal: 56.2s\tremaining: 2m 3s\n",
      "312:\tlearn: 0.2926393\ttotal: 56.4s\tremaining: 2m 3s\n",
      "313:\tlearn: 0.2926161\ttotal: 56.5s\tremaining: 2m 3s\n",
      "314:\tlearn: 0.2926105\ttotal: 56.6s\tremaining: 2m 3s\n",
      "315:\tlearn: 0.2925945\ttotal: 56.8s\tremaining: 2m 2s\n"
     ]
    },
    {
     "name": "stdout",
     "output_type": "stream",
     "text": [
      "316:\tlearn: 0.2925734\ttotal: 56.9s\tremaining: 2m 2s\n",
      "317:\tlearn: 0.2925580\ttotal: 57s\tremaining: 2m 2s\n",
      "318:\tlearn: 0.2925376\ttotal: 57.1s\tremaining: 2m 1s\n",
      "319:\tlearn: 0.2925160\ttotal: 57.3s\tremaining: 2m 1s\n",
      "320:\tlearn: 0.2925003\ttotal: 57.4s\tremaining: 2m 1s\n",
      "321:\tlearn: 0.2924829\ttotal: 57.5s\tremaining: 2m 1s\n",
      "322:\tlearn: 0.2924697\ttotal: 57.7s\tremaining: 2m\n",
      "323:\tlearn: 0.2924538\ttotal: 57.8s\tremaining: 2m\n",
      "324:\tlearn: 0.2924315\ttotal: 57.9s\tremaining: 2m\n",
      "325:\tlearn: 0.2924140\ttotal: 58s\tremaining: 2m\n",
      "326:\tlearn: 0.2923928\ttotal: 58.2s\tremaining: 1m 59s\n",
      "327:\tlearn: 0.2923758\ttotal: 58.3s\tremaining: 1m 59s\n",
      "328:\tlearn: 0.2923585\ttotal: 58.4s\tremaining: 1m 59s\n",
      "329:\tlearn: 0.2923467\ttotal: 58.5s\tremaining: 1m 58s\n",
      "330:\tlearn: 0.2923364\ttotal: 58.7s\tremaining: 1m 58s\n",
      "331:\tlearn: 0.2923208\ttotal: 58.8s\tremaining: 1m 58s\n",
      "332:\tlearn: 0.2923086\ttotal: 58.9s\tremaining: 1m 58s\n",
      "333:\tlearn: 0.2922974\ttotal: 59.1s\tremaining: 1m 57s\n",
      "334:\tlearn: 0.2922690\ttotal: 59.2s\tremaining: 1m 57s\n",
      "335:\tlearn: 0.2922535\ttotal: 59.3s\tremaining: 1m 57s\n",
      "336:\tlearn: 0.2922287\ttotal: 59.4s\tremaining: 1m 56s\n",
      "337:\tlearn: 0.2922176\ttotal: 59.6s\tremaining: 1m 56s\n",
      "338:\tlearn: 0.2921942\ttotal: 59.7s\tremaining: 1m 56s\n",
      "339:\tlearn: 0.2921748\ttotal: 59.8s\tremaining: 1m 56s\n",
      "340:\tlearn: 0.2921505\ttotal: 60s\tremaining: 1m 55s\n",
      "341:\tlearn: 0.2921357\ttotal: 1m\tremaining: 1m 55s\n",
      "342:\tlearn: 0.2921154\ttotal: 1m\tremaining: 1m 55s\n",
      "343:\tlearn: 0.2920959\ttotal: 1m\tremaining: 1m 55s\n",
      "344:\tlearn: 0.2920688\ttotal: 1m\tremaining: 1m 54s\n",
      "345:\tlearn: 0.2920465\ttotal: 1m\tremaining: 1m 54s\n",
      "346:\tlearn: 0.2920286\ttotal: 1m\tremaining: 1m 54s\n",
      "347:\tlearn: 0.2920152\ttotal: 1m\tremaining: 1m 54s\n",
      "348:\tlearn: 0.2919959\ttotal: 1m\tremaining: 1m 53s\n",
      "349:\tlearn: 0.2919652\ttotal: 1m 1s\tremaining: 1m 53s\n",
      "350:\tlearn: 0.2919482\ttotal: 1m 1s\tremaining: 1m 53s\n",
      "351:\tlearn: 0.2919279\ttotal: 1m 1s\tremaining: 1m 53s\n",
      "352:\tlearn: 0.2919167\ttotal: 1m 1s\tremaining: 1m 52s\n",
      "353:\tlearn: 0.2918997\ttotal: 1m 1s\tremaining: 1m 52s\n",
      "354:\tlearn: 0.2918794\ttotal: 1m 1s\tremaining: 1m 52s\n",
      "355:\tlearn: 0.2918674\ttotal: 1m 2s\tremaining: 1m 52s\n",
      "356:\tlearn: 0.2918519\ttotal: 1m 2s\tremaining: 1m 52s\n",
      "357:\tlearn: 0.2918301\ttotal: 1m 2s\tremaining: 1m 51s\n",
      "358:\tlearn: 0.2918051\ttotal: 1m 2s\tremaining: 1m 51s\n",
      "359:\tlearn: 0.2917842\ttotal: 1m 2s\tremaining: 1m 51s\n",
      "360:\tlearn: 0.2917624\ttotal: 1m 2s\tremaining: 1m 51s\n",
      "361:\tlearn: 0.2917474\ttotal: 1m 3s\tremaining: 1m 51s\n",
      "362:\tlearn: 0.2917294\ttotal: 1m 3s\tremaining: 1m 51s\n",
      "363:\tlearn: 0.2917104\ttotal: 1m 3s\tremaining: 1m 50s\n",
      "364:\tlearn: 0.2916860\ttotal: 1m 3s\tremaining: 1m 50s\n",
      "365:\tlearn: 0.2916712\ttotal: 1m 3s\tremaining: 1m 50s\n",
      "366:\tlearn: 0.2916542\ttotal: 1m 3s\tremaining: 1m 50s\n",
      "367:\tlearn: 0.2916363\ttotal: 1m 4s\tremaining: 1m 50s\n",
      "368:\tlearn: 0.2916177\ttotal: 1m 4s\tremaining: 1m 49s\n",
      "369:\tlearn: 0.2916032\ttotal: 1m 4s\tremaining: 1m 49s\n",
      "370:\tlearn: 0.2915906\ttotal: 1m 4s\tremaining: 1m 49s\n",
      "371:\tlearn: 0.2915782\ttotal: 1m 4s\tremaining: 1m 49s\n",
      "372:\tlearn: 0.2915542\ttotal: 1m 4s\tremaining: 1m 49s\n",
      "373:\tlearn: 0.2915349\ttotal: 1m 5s\tremaining: 1m 48s\n",
      "374:\tlearn: 0.2915169\ttotal: 1m 5s\tremaining: 1m 48s\n",
      "375:\tlearn: 0.2914986\ttotal: 1m 5s\tremaining: 1m 48s\n",
      "376:\tlearn: 0.2914796\ttotal: 1m 5s\tremaining: 1m 48s\n",
      "377:\tlearn: 0.2914642\ttotal: 1m 5s\tremaining: 1m 48s\n",
      "378:\tlearn: 0.2914452\ttotal: 1m 5s\tremaining: 1m 48s\n",
      "379:\tlearn: 0.2914248\ttotal: 1m 6s\tremaining: 1m 47s\n",
      "380:\tlearn: 0.2914084\ttotal: 1m 6s\tremaining: 1m 47s\n",
      "381:\tlearn: 0.2913871\ttotal: 1m 6s\tremaining: 1m 47s\n",
      "382:\tlearn: 0.2913702\ttotal: 1m 6s\tremaining: 1m 47s\n",
      "383:\tlearn: 0.2913564\ttotal: 1m 6s\tremaining: 1m 46s\n",
      "384:\tlearn: 0.2913296\ttotal: 1m 6s\tremaining: 1m 46s\n",
      "385:\tlearn: 0.2913148\ttotal: 1m 6s\tremaining: 1m 46s\n",
      "386:\tlearn: 0.2912970\ttotal: 1m 7s\tremaining: 1m 46s\n",
      "387:\tlearn: 0.2912792\ttotal: 1m 7s\tremaining: 1m 46s\n",
      "388:\tlearn: 0.2912542\ttotal: 1m 7s\tremaining: 1m 45s\n",
      "389:\tlearn: 0.2912319\ttotal: 1m 7s\tremaining: 1m 45s\n",
      "390:\tlearn: 0.2912167\ttotal: 1m 7s\tremaining: 1m 45s\n",
      "391:\tlearn: 0.2912080\ttotal: 1m 7s\tremaining: 1m 45s\n",
      "392:\tlearn: 0.2911942\ttotal: 1m 8s\tremaining: 1m 45s\n",
      "393:\tlearn: 0.2911746\ttotal: 1m 8s\tremaining: 1m 44s\n",
      "394:\tlearn: 0.2911617\ttotal: 1m 8s\tremaining: 1m 44s\n",
      "395:\tlearn: 0.2911484\ttotal: 1m 8s\tremaining: 1m 44s\n",
      "396:\tlearn: 0.2911318\ttotal: 1m 8s\tremaining: 1m 44s\n",
      "397:\tlearn: 0.2911093\ttotal: 1m 8s\tremaining: 1m 44s\n",
      "398:\tlearn: 0.2910853\ttotal: 1m 8s\tremaining: 1m 43s\n",
      "399:\tlearn: 0.2910698\ttotal: 1m 9s\tremaining: 1m 43s\n",
      "400:\tlearn: 0.2910484\ttotal: 1m 9s\tremaining: 1m 43s\n",
      "401:\tlearn: 0.2910267\ttotal: 1m 9s\tremaining: 1m 43s\n",
      "402:\tlearn: 0.2910162\ttotal: 1m 9s\tremaining: 1m 43s\n",
      "403:\tlearn: 0.2909964\ttotal: 1m 9s\tremaining: 1m 43s\n",
      "404:\tlearn: 0.2909832\ttotal: 1m 10s\tremaining: 1m 43s\n",
      "405:\tlearn: 0.2909656\ttotal: 1m 10s\tremaining: 1m 42s\n",
      "406:\tlearn: 0.2909481\ttotal: 1m 10s\tremaining: 1m 42s\n",
      "407:\tlearn: 0.2909314\ttotal: 1m 10s\tremaining: 1m 42s\n",
      "408:\tlearn: 0.2909039\ttotal: 1m 11s\tremaining: 1m 42s\n",
      "409:\tlearn: 0.2908858\ttotal: 1m 11s\tremaining: 1m 42s\n",
      "410:\tlearn: 0.2908724\ttotal: 1m 11s\tremaining: 1m 42s\n",
      "411:\tlearn: 0.2908509\ttotal: 1m 11s\tremaining: 1m 42s\n",
      "412:\tlearn: 0.2908312\ttotal: 1m 11s\tremaining: 1m 42s\n",
      "413:\tlearn: 0.2908073\ttotal: 1m 12s\tremaining: 1m 41s\n",
      "414:\tlearn: 0.2908012\ttotal: 1m 12s\tremaining: 1m 41s\n",
      "415:\tlearn: 0.2907790\ttotal: 1m 12s\tremaining: 1m 41s\n",
      "416:\tlearn: 0.2907591\ttotal: 1m 12s\tremaining: 1m 41s\n",
      "417:\tlearn: 0.2907451\ttotal: 1m 12s\tremaining: 1m 41s\n",
      "418:\tlearn: 0.2907258\ttotal: 1m 12s\tremaining: 1m 41s\n",
      "419:\tlearn: 0.2907097\ttotal: 1m 13s\tremaining: 1m 40s\n",
      "420:\tlearn: 0.2906910\ttotal: 1m 13s\tremaining: 1m 40s\n",
      "421:\tlearn: 0.2906760\ttotal: 1m 13s\tremaining: 1m 40s\n",
      "422:\tlearn: 0.2906547\ttotal: 1m 13s\tremaining: 1m 40s\n",
      "423:\tlearn: 0.2906333\ttotal: 1m 13s\tremaining: 1m 40s\n",
      "424:\tlearn: 0.2906133\ttotal: 1m 13s\tremaining: 1m 39s\n",
      "425:\tlearn: 0.2905880\ttotal: 1m 13s\tremaining: 1m 39s\n",
      "426:\tlearn: 0.2905706\ttotal: 1m 14s\tremaining: 1m 39s\n",
      "427:\tlearn: 0.2905583\ttotal: 1m 14s\tremaining: 1m 39s\n",
      "428:\tlearn: 0.2905365\ttotal: 1m 14s\tremaining: 1m 38s\n",
      "429:\tlearn: 0.2905163\ttotal: 1m 14s\tremaining: 1m 38s\n",
      "430:\tlearn: 0.2904976\ttotal: 1m 14s\tremaining: 1m 38s\n",
      "431:\tlearn: 0.2904804\ttotal: 1m 14s\tremaining: 1m 38s\n",
      "432:\tlearn: 0.2904692\ttotal: 1m 14s\tremaining: 1m 37s\n",
      "433:\tlearn: 0.2904511\ttotal: 1m 14s\tremaining: 1m 37s\n",
      "434:\tlearn: 0.2904320\ttotal: 1m 15s\tremaining: 1m 37s\n",
      "435:\tlearn: 0.2904149\ttotal: 1m 15s\tremaining: 1m 37s\n",
      "436:\tlearn: 0.2903989\ttotal: 1m 15s\tremaining: 1m 37s\n",
      "437:\tlearn: 0.2903800\ttotal: 1m 15s\tremaining: 1m 36s\n",
      "438:\tlearn: 0.2903658\ttotal: 1m 15s\tremaining: 1m 36s\n",
      "439:\tlearn: 0.2903413\ttotal: 1m 15s\tremaining: 1m 36s\n",
      "440:\tlearn: 0.2903253\ttotal: 1m 15s\tremaining: 1m 36s\n",
      "441:\tlearn: 0.2903131\ttotal: 1m 15s\tremaining: 1m 35s\n",
      "442:\tlearn: 0.2902888\ttotal: 1m 16s\tremaining: 1m 35s\n",
      "443:\tlearn: 0.2902575\ttotal: 1m 16s\tremaining: 1m 35s\n",
      "444:\tlearn: 0.2902378\ttotal: 1m 16s\tremaining: 1m 35s\n",
      "445:\tlearn: 0.2902323\ttotal: 1m 16s\tremaining: 1m 34s\n",
      "446:\tlearn: 0.2902169\ttotal: 1m 16s\tremaining: 1m 34s\n",
      "447:\tlearn: 0.2901964\ttotal: 1m 16s\tremaining: 1m 34s\n",
      "448:\tlearn: 0.2901803\ttotal: 1m 16s\tremaining: 1m 34s\n",
      "449:\tlearn: 0.2901582\ttotal: 1m 17s\tremaining: 1m 34s\n",
      "450:\tlearn: 0.2901365\ttotal: 1m 17s\tremaining: 1m 33s\n",
      "451:\tlearn: 0.2901194\ttotal: 1m 17s\tremaining: 1m 33s\n",
      "452:\tlearn: 0.2900995\ttotal: 1m 17s\tremaining: 1m 33s\n",
      "453:\tlearn: 0.2900853\ttotal: 1m 17s\tremaining: 1m 33s\n",
      "454:\tlearn: 0.2900631\ttotal: 1m 17s\tremaining: 1m 33s\n",
      "455:\tlearn: 0.2900469\ttotal: 1m 17s\tremaining: 1m 32s\n",
      "456:\tlearn: 0.2900299\ttotal: 1m 17s\tremaining: 1m 32s\n",
      "457:\tlearn: 0.2900086\ttotal: 1m 18s\tremaining: 1m 32s\n",
      "458:\tlearn: 0.2899797\ttotal: 1m 18s\tremaining: 1m 32s\n",
      "459:\tlearn: 0.2899650\ttotal: 1m 18s\tremaining: 1m 31s\n",
      "460:\tlearn: 0.2899455\ttotal: 1m 18s\tremaining: 1m 31s\n",
      "461:\tlearn: 0.2899295\ttotal: 1m 18s\tremaining: 1m 31s\n",
      "462:\tlearn: 0.2899111\ttotal: 1m 18s\tremaining: 1m 31s\n",
      "463:\tlearn: 0.2898879\ttotal: 1m 18s\tremaining: 1m 31s\n",
      "464:\tlearn: 0.2898641\ttotal: 1m 19s\tremaining: 1m 30s\n",
      "465:\tlearn: 0.2898465\ttotal: 1m 19s\tremaining: 1m 30s\n",
      "466:\tlearn: 0.2898266\ttotal: 1m 19s\tremaining: 1m 30s\n",
      "467:\tlearn: 0.2898114\ttotal: 1m 19s\tremaining: 1m 30s\n",
      "468:\tlearn: 0.2897878\ttotal: 1m 19s\tremaining: 1m 30s\n",
      "469:\tlearn: 0.2897712\ttotal: 1m 19s\tremaining: 1m 29s\n",
      "470:\tlearn: 0.2897640\ttotal: 1m 19s\tremaining: 1m 29s\n"
     ]
    },
    {
     "name": "stdout",
     "output_type": "stream",
     "text": [
      "471:\tlearn: 0.2897580\ttotal: 1m 19s\tremaining: 1m 29s\n",
      "472:\tlearn: 0.2897336\ttotal: 1m 20s\tremaining: 1m 29s\n",
      "473:\tlearn: 0.2897272\ttotal: 1m 20s\tremaining: 1m 29s\n",
      "474:\tlearn: 0.2897118\ttotal: 1m 20s\tremaining: 1m 28s\n",
      "475:\tlearn: 0.2897003\ttotal: 1m 20s\tremaining: 1m 28s\n",
      "476:\tlearn: 0.2896737\ttotal: 1m 20s\tremaining: 1m 28s\n",
      "477:\tlearn: 0.2896545\ttotal: 1m 20s\tremaining: 1m 28s\n",
      "478:\tlearn: 0.2896379\ttotal: 1m 20s\tremaining: 1m 28s\n",
      "479:\tlearn: 0.2896193\ttotal: 1m 21s\tremaining: 1m 27s\n",
      "480:\tlearn: 0.2896009\ttotal: 1m 21s\tremaining: 1m 27s\n",
      "481:\tlearn: 0.2895807\ttotal: 1m 21s\tremaining: 1m 27s\n",
      "482:\tlearn: 0.2895637\ttotal: 1m 21s\tremaining: 1m 27s\n",
      "483:\tlearn: 0.2895464\ttotal: 1m 21s\tremaining: 1m 26s\n",
      "484:\tlearn: 0.2895345\ttotal: 1m 21s\tremaining: 1m 26s\n",
      "485:\tlearn: 0.2895200\ttotal: 1m 21s\tremaining: 1m 26s\n",
      "486:\tlearn: 0.2895093\ttotal: 1m 21s\tremaining: 1m 26s\n",
      "487:\tlearn: 0.2894981\ttotal: 1m 22s\tremaining: 1m 26s\n",
      "488:\tlearn: 0.2894790\ttotal: 1m 22s\tremaining: 1m 25s\n",
      "489:\tlearn: 0.2894599\ttotal: 1m 22s\tremaining: 1m 25s\n",
      "490:\tlearn: 0.2894424\ttotal: 1m 22s\tremaining: 1m 25s\n",
      "491:\tlearn: 0.2894254\ttotal: 1m 22s\tremaining: 1m 25s\n",
      "492:\tlearn: 0.2894095\ttotal: 1m 22s\tremaining: 1m 25s\n",
      "493:\tlearn: 0.2893927\ttotal: 1m 23s\tremaining: 1m 25s\n",
      "494:\tlearn: 0.2893800\ttotal: 1m 23s\tremaining: 1m 24s\n",
      "495:\tlearn: 0.2893614\ttotal: 1m 23s\tremaining: 1m 24s\n",
      "496:\tlearn: 0.2893525\ttotal: 1m 23s\tremaining: 1m 24s\n",
      "497:\tlearn: 0.2893376\ttotal: 1m 23s\tremaining: 1m 24s\n",
      "498:\tlearn: 0.2893214\ttotal: 1m 23s\tremaining: 1m 24s\n",
      "499:\tlearn: 0.2892926\ttotal: 1m 23s\tremaining: 1m 23s\n",
      "500:\tlearn: 0.2892837\ttotal: 1m 24s\tremaining: 1m 23s\n",
      "501:\tlearn: 0.2892590\ttotal: 1m 24s\tremaining: 1m 23s\n",
      "502:\tlearn: 0.2892316\ttotal: 1m 24s\tremaining: 1m 23s\n",
      "503:\tlearn: 0.2891955\ttotal: 1m 24s\tremaining: 1m 23s\n",
      "504:\tlearn: 0.2891832\ttotal: 1m 24s\tremaining: 1m 22s\n",
      "505:\tlearn: 0.2891661\ttotal: 1m 24s\tremaining: 1m 22s\n",
      "506:\tlearn: 0.2891432\ttotal: 1m 24s\tremaining: 1m 22s\n",
      "507:\tlearn: 0.2891286\ttotal: 1m 25s\tremaining: 1m 22s\n",
      "508:\tlearn: 0.2891162\ttotal: 1m 25s\tremaining: 1m 22s\n",
      "509:\tlearn: 0.2890928\ttotal: 1m 25s\tremaining: 1m 21s\n",
      "510:\tlearn: 0.2890736\ttotal: 1m 25s\tremaining: 1m 21s\n",
      "511:\tlearn: 0.2890570\ttotal: 1m 25s\tremaining: 1m 21s\n",
      "512:\tlearn: 0.2890423\ttotal: 1m 25s\tremaining: 1m 21s\n",
      "513:\tlearn: 0.2890352\ttotal: 1m 25s\tremaining: 1m 21s\n",
      "514:\tlearn: 0.2890145\ttotal: 1m 25s\tremaining: 1m 20s\n",
      "515:\tlearn: 0.2889977\ttotal: 1m 26s\tremaining: 1m 20s\n",
      "516:\tlearn: 0.2889891\ttotal: 1m 26s\tremaining: 1m 20s\n",
      "517:\tlearn: 0.2889705\ttotal: 1m 26s\tremaining: 1m 20s\n",
      "518:\tlearn: 0.2889466\ttotal: 1m 26s\tremaining: 1m 20s\n",
      "519:\tlearn: 0.2889256\ttotal: 1m 26s\tremaining: 1m 19s\n",
      "520:\tlearn: 0.2889065\ttotal: 1m 26s\tremaining: 1m 19s\n",
      "521:\tlearn: 0.2888899\ttotal: 1m 26s\tremaining: 1m 19s\n",
      "522:\tlearn: 0.2888749\ttotal: 1m 26s\tremaining: 1m 19s\n",
      "523:\tlearn: 0.2888616\ttotal: 1m 27s\tremaining: 1m 19s\n",
      "524:\tlearn: 0.2888398\ttotal: 1m 27s\tremaining: 1m 18s\n",
      "525:\tlearn: 0.2888261\ttotal: 1m 27s\tremaining: 1m 18s\n",
      "526:\tlearn: 0.2888057\ttotal: 1m 27s\tremaining: 1m 18s\n",
      "527:\tlearn: 0.2887966\ttotal: 1m 27s\tremaining: 1m 18s\n",
      "528:\tlearn: 0.2887855\ttotal: 1m 27s\tremaining: 1m 18s\n",
      "529:\tlearn: 0.2887781\ttotal: 1m 27s\tremaining: 1m 17s\n",
      "530:\tlearn: 0.2887574\ttotal: 1m 28s\tremaining: 1m 17s\n",
      "531:\tlearn: 0.2887406\ttotal: 1m 28s\tremaining: 1m 17s\n",
      "532:\tlearn: 0.2887207\ttotal: 1m 28s\tremaining: 1m 17s\n",
      "533:\tlearn: 0.2886952\ttotal: 1m 28s\tremaining: 1m 17s\n",
      "534:\tlearn: 0.2886862\ttotal: 1m 28s\tremaining: 1m 17s\n",
      "535:\tlearn: 0.2886765\ttotal: 1m 28s\tremaining: 1m 16s\n",
      "536:\tlearn: 0.2886641\ttotal: 1m 29s\tremaining: 1m 16s\n",
      "537:\tlearn: 0.2886567\ttotal: 1m 29s\tremaining: 1m 16s\n",
      "538:\tlearn: 0.2886397\ttotal: 1m 29s\tremaining: 1m 16s\n",
      "539:\tlearn: 0.2886209\ttotal: 1m 29s\tremaining: 1m 16s\n",
      "540:\tlearn: 0.2886074\ttotal: 1m 29s\tremaining: 1m 16s\n",
      "541:\tlearn: 0.2885913\ttotal: 1m 30s\tremaining: 1m 16s\n",
      "542:\tlearn: 0.2885796\ttotal: 1m 30s\tremaining: 1m 15s\n",
      "543:\tlearn: 0.2885591\ttotal: 1m 30s\tremaining: 1m 15s\n",
      "544:\tlearn: 0.2885433\ttotal: 1m 30s\tremaining: 1m 15s\n",
      "545:\tlearn: 0.2885259\ttotal: 1m 30s\tremaining: 1m 15s\n",
      "546:\tlearn: 0.2885063\ttotal: 1m 31s\tremaining: 1m 15s\n",
      "547:\tlearn: 0.2884907\ttotal: 1m 31s\tremaining: 1m 15s\n",
      "548:\tlearn: 0.2884640\ttotal: 1m 31s\tremaining: 1m 15s\n",
      "549:\tlearn: 0.2884473\ttotal: 1m 31s\tremaining: 1m 15s\n",
      "550:\tlearn: 0.2884308\ttotal: 1m 32s\tremaining: 1m 15s\n",
      "551:\tlearn: 0.2884224\ttotal: 1m 32s\tremaining: 1m 15s\n",
      "552:\tlearn: 0.2884086\ttotal: 1m 33s\tremaining: 1m 15s\n",
      "553:\tlearn: 0.2883949\ttotal: 1m 33s\tremaining: 1m 15s\n",
      "554:\tlearn: 0.2883830\ttotal: 1m 33s\tremaining: 1m 15s\n",
      "555:\tlearn: 0.2883680\ttotal: 1m 33s\tremaining: 1m 15s\n",
      "556:\tlearn: 0.2883563\ttotal: 1m 34s\tremaining: 1m 14s\n",
      "557:\tlearn: 0.2883353\ttotal: 1m 34s\tremaining: 1m 14s\n",
      "558:\tlearn: 0.2883222\ttotal: 1m 34s\tremaining: 1m 14s\n",
      "559:\tlearn: 0.2883065\ttotal: 1m 34s\tremaining: 1m 14s\n",
      "560:\tlearn: 0.2882891\ttotal: 1m 34s\tremaining: 1m 14s\n",
      "561:\tlearn: 0.2882721\ttotal: 1m 35s\tremaining: 1m 14s\n",
      "562:\tlearn: 0.2882569\ttotal: 1m 35s\tremaining: 1m 13s\n",
      "563:\tlearn: 0.2882419\ttotal: 1m 35s\tremaining: 1m 13s\n",
      "564:\tlearn: 0.2882255\ttotal: 1m 35s\tremaining: 1m 13s\n",
      "565:\tlearn: 0.2882065\ttotal: 1m 35s\tremaining: 1m 13s\n",
      "566:\tlearn: 0.2881865\ttotal: 1m 35s\tremaining: 1m 13s\n",
      "567:\tlearn: 0.2881812\ttotal: 1m 36s\tremaining: 1m 13s\n",
      "568:\tlearn: 0.2881666\ttotal: 1m 36s\tremaining: 1m 12s\n",
      "569:\tlearn: 0.2881493\ttotal: 1m 36s\tremaining: 1m 12s\n",
      "570:\tlearn: 0.2881340\ttotal: 1m 36s\tremaining: 1m 12s\n",
      "571:\tlearn: 0.2881186\ttotal: 1m 36s\tremaining: 1m 12s\n",
      "572:\tlearn: 0.2881010\ttotal: 1m 37s\tremaining: 1m 12s\n",
      "573:\tlearn: 0.2880786\ttotal: 1m 37s\tremaining: 1m 12s\n",
      "574:\tlearn: 0.2880605\ttotal: 1m 37s\tremaining: 1m 11s\n",
      "575:\tlearn: 0.2880546\ttotal: 1m 37s\tremaining: 1m 11s\n",
      "576:\tlearn: 0.2880335\ttotal: 1m 37s\tremaining: 1m 11s\n",
      "577:\tlearn: 0.2880184\ttotal: 1m 37s\tremaining: 1m 11s\n",
      "578:\tlearn: 0.2880028\ttotal: 1m 38s\tremaining: 1m 11s\n",
      "579:\tlearn: 0.2879867\ttotal: 1m 38s\tremaining: 1m 11s\n",
      "580:\tlearn: 0.2879743\ttotal: 1m 38s\tremaining: 1m 10s\n",
      "581:\tlearn: 0.2879527\ttotal: 1m 38s\tremaining: 1m 10s\n",
      "582:\tlearn: 0.2879360\ttotal: 1m 38s\tremaining: 1m 10s\n",
      "583:\tlearn: 0.2879211\ttotal: 1m 38s\tremaining: 1m 10s\n",
      "584:\tlearn: 0.2879054\ttotal: 1m 39s\tremaining: 1m 10s\n",
      "585:\tlearn: 0.2878867\ttotal: 1m 39s\tremaining: 1m 10s\n",
      "586:\tlearn: 0.2878688\ttotal: 1m 39s\tremaining: 1m 9s\n",
      "587:\tlearn: 0.2878587\ttotal: 1m 39s\tremaining: 1m 9s\n",
      "588:\tlearn: 0.2878425\ttotal: 1m 39s\tremaining: 1m 9s\n",
      "589:\tlearn: 0.2878244\ttotal: 1m 39s\tremaining: 1m 9s\n",
      "590:\tlearn: 0.2878122\ttotal: 1m 40s\tremaining: 1m 9s\n",
      "591:\tlearn: 0.2877964\ttotal: 1m 40s\tremaining: 1m 9s\n",
      "592:\tlearn: 0.2877905\ttotal: 1m 40s\tremaining: 1m 8s\n",
      "593:\tlearn: 0.2877847\ttotal: 1m 40s\tremaining: 1m 8s\n",
      "594:\tlearn: 0.2877737\ttotal: 1m 40s\tremaining: 1m 8s\n",
      "595:\tlearn: 0.2877577\ttotal: 1m 40s\tremaining: 1m 8s\n",
      "596:\tlearn: 0.2877435\ttotal: 1m 41s\tremaining: 1m 8s\n",
      "597:\tlearn: 0.2877297\ttotal: 1m 41s\tremaining: 1m 8s\n",
      "598:\tlearn: 0.2877025\ttotal: 1m 41s\tremaining: 1m 7s\n",
      "599:\tlearn: 0.2876817\ttotal: 1m 41s\tremaining: 1m 7s\n",
      "600:\tlearn: 0.2876762\ttotal: 1m 41s\tremaining: 1m 7s\n",
      "601:\tlearn: 0.2876707\ttotal: 1m 42s\tremaining: 1m 7s\n",
      "602:\tlearn: 0.2876551\ttotal: 1m 42s\tremaining: 1m 7s\n",
      "603:\tlearn: 0.2876345\ttotal: 1m 42s\tremaining: 1m 7s\n",
      "604:\tlearn: 0.2876201\ttotal: 1m 42s\tremaining: 1m 6s\n",
      "605:\tlearn: 0.2876068\ttotal: 1m 42s\tremaining: 1m 6s\n",
      "606:\tlearn: 0.2875951\ttotal: 1m 42s\tremaining: 1m 6s\n",
      "607:\tlearn: 0.2875845\ttotal: 1m 42s\tremaining: 1m 6s\n",
      "608:\tlearn: 0.2875738\ttotal: 1m 43s\tremaining: 1m 6s\n",
      "609:\tlearn: 0.2875542\ttotal: 1m 43s\tremaining: 1m 6s\n",
      "610:\tlearn: 0.2875398\ttotal: 1m 43s\tremaining: 1m 5s\n",
      "611:\tlearn: 0.2875342\ttotal: 1m 43s\tremaining: 1m 5s\n",
      "612:\tlearn: 0.2875239\ttotal: 1m 43s\tremaining: 1m 5s\n",
      "613:\tlearn: 0.2875135\ttotal: 1m 44s\tremaining: 1m 5s\n",
      "614:\tlearn: 0.2874997\ttotal: 1m 44s\tremaining: 1m 5s\n",
      "615:\tlearn: 0.2874867\ttotal: 1m 44s\tremaining: 1m 5s\n",
      "616:\tlearn: 0.2874708\ttotal: 1m 44s\tremaining: 1m 4s\n",
      "617:\tlearn: 0.2874615\ttotal: 1m 44s\tremaining: 1m 4s\n",
      "618:\tlearn: 0.2874457\ttotal: 1m 44s\tremaining: 1m 4s\n",
      "619:\tlearn: 0.2874324\ttotal: 1m 45s\tremaining: 1m 4s\n",
      "620:\tlearn: 0.2874168\ttotal: 1m 45s\tremaining: 1m 4s\n",
      "621:\tlearn: 0.2874011\ttotal: 1m 45s\tremaining: 1m 4s\n",
      "622:\tlearn: 0.2873839\ttotal: 1m 45s\tremaining: 1m 3s\n",
      "623:\tlearn: 0.2873756\ttotal: 1m 45s\tremaining: 1m 3s\n",
      "624:\tlearn: 0.2873587\ttotal: 1m 45s\tremaining: 1m 3s\n"
     ]
    },
    {
     "name": "stdout",
     "output_type": "stream",
     "text": [
      "625:\tlearn: 0.2873548\ttotal: 1m 46s\tremaining: 1m 3s\n",
      "626:\tlearn: 0.2873408\ttotal: 1m 46s\tremaining: 1m 3s\n",
      "627:\tlearn: 0.2873186\ttotal: 1m 46s\tremaining: 1m 3s\n",
      "628:\tlearn: 0.2873003\ttotal: 1m 46s\tremaining: 1m 2s\n",
      "629:\tlearn: 0.2872864\ttotal: 1m 46s\tremaining: 1m 2s\n",
      "630:\tlearn: 0.2872656\ttotal: 1m 46s\tremaining: 1m 2s\n",
      "631:\tlearn: 0.2872438\ttotal: 1m 47s\tremaining: 1m 2s\n",
      "632:\tlearn: 0.2872220\ttotal: 1m 47s\tremaining: 1m 2s\n",
      "633:\tlearn: 0.2872052\ttotal: 1m 47s\tremaining: 1m 2s\n",
      "634:\tlearn: 0.2871888\ttotal: 1m 47s\tremaining: 1m 1s\n",
      "635:\tlearn: 0.2871739\ttotal: 1m 47s\tremaining: 1m 1s\n",
      "636:\tlearn: 0.2871590\ttotal: 1m 48s\tremaining: 1m 1s\n",
      "637:\tlearn: 0.2871483\ttotal: 1m 48s\tremaining: 1m 1s\n",
      "638:\tlearn: 0.2871331\ttotal: 1m 48s\tremaining: 1m 1s\n",
      "639:\tlearn: 0.2871154\ttotal: 1m 48s\tremaining: 1m 1s\n",
      "640:\tlearn: 0.2871010\ttotal: 1m 48s\tremaining: 1m 1s\n",
      "641:\tlearn: 0.2870819\ttotal: 1m 49s\tremaining: 1m\n",
      "642:\tlearn: 0.2870655\ttotal: 1m 49s\tremaining: 1m\n",
      "643:\tlearn: 0.2870470\ttotal: 1m 49s\tremaining: 1m\n",
      "644:\tlearn: 0.2870267\ttotal: 1m 49s\tremaining: 1m\n",
      "645:\tlearn: 0.2870059\ttotal: 1m 50s\tremaining: 1m\n",
      "646:\tlearn: 0.2869931\ttotal: 1m 50s\tremaining: 1m\n",
      "647:\tlearn: 0.2869764\ttotal: 1m 50s\tremaining: 1m\n",
      "648:\tlearn: 0.2869595\ttotal: 1m 50s\tremaining: 60s\n",
      "649:\tlearn: 0.2869368\ttotal: 1m 51s\tremaining: 59.9s\n",
      "650:\tlearn: 0.2869242\ttotal: 1m 51s\tremaining: 59.8s\n",
      "651:\tlearn: 0.2869048\ttotal: 1m 51s\tremaining: 59.6s\n",
      "652:\tlearn: 0.2868887\ttotal: 1m 51s\tremaining: 59.5s\n",
      "653:\tlearn: 0.2868717\ttotal: 1m 52s\tremaining: 59.3s\n",
      "654:\tlearn: 0.2868552\ttotal: 1m 52s\tremaining: 59.2s\n",
      "655:\tlearn: 0.2868430\ttotal: 1m 52s\tremaining: 59s\n",
      "656:\tlearn: 0.2868193\ttotal: 1m 52s\tremaining: 58.9s\n",
      "657:\tlearn: 0.2868077\ttotal: 1m 52s\tremaining: 58.7s\n",
      "658:\tlearn: 0.2867856\ttotal: 1m 53s\tremaining: 58.6s\n",
      "659:\tlearn: 0.2867712\ttotal: 1m 53s\tremaining: 58.4s\n",
      "660:\tlearn: 0.2867573\ttotal: 1m 53s\tremaining: 58.3s\n",
      "661:\tlearn: 0.2867475\ttotal: 1m 53s\tremaining: 58.1s\n",
      "662:\tlearn: 0.2867339\ttotal: 1m 54s\tremaining: 58s\n",
      "663:\tlearn: 0.2867221\ttotal: 1m 54s\tremaining: 57.8s\n",
      "664:\tlearn: 0.2867036\ttotal: 1m 54s\tremaining: 57.7s\n",
      "665:\tlearn: 0.2866934\ttotal: 1m 54s\tremaining: 57.5s\n",
      "666:\tlearn: 0.2866783\ttotal: 1m 55s\tremaining: 57.5s\n",
      "667:\tlearn: 0.2866689\ttotal: 1m 55s\tremaining: 57.4s\n",
      "668:\tlearn: 0.2866519\ttotal: 1m 55s\tremaining: 57.3s\n",
      "669:\tlearn: 0.2866486\ttotal: 1m 55s\tremaining: 57.1s\n",
      "670:\tlearn: 0.2866256\ttotal: 1m 56s\tremaining: 57s\n",
      "671:\tlearn: 0.2866111\ttotal: 1m 56s\tremaining: 56.9s\n",
      "672:\tlearn: 0.2865977\ttotal: 1m 56s\tremaining: 56.7s\n",
      "673:\tlearn: 0.2865913\ttotal: 1m 56s\tremaining: 56.6s\n",
      "674:\tlearn: 0.2865888\ttotal: 1m 57s\tremaining: 56.4s\n",
      "675:\tlearn: 0.2865781\ttotal: 1m 57s\tremaining: 56.2s\n",
      "676:\tlearn: 0.2865659\ttotal: 1m 57s\tremaining: 56.1s\n",
      "677:\tlearn: 0.2865585\ttotal: 1m 57s\tremaining: 55.9s\n",
      "678:\tlearn: 0.2865462\ttotal: 1m 57s\tremaining: 55.7s\n",
      "679:\tlearn: 0.2865355\ttotal: 1m 58s\tremaining: 55.5s\n",
      "680:\tlearn: 0.2865294\ttotal: 1m 58s\tremaining: 55.4s\n",
      "681:\tlearn: 0.2865109\ttotal: 1m 58s\tremaining: 55.2s\n",
      "682:\tlearn: 0.2864946\ttotal: 1m 58s\tremaining: 55s\n",
      "683:\tlearn: 0.2864778\ttotal: 1m 58s\tremaining: 54.9s\n",
      "684:\tlearn: 0.2864579\ttotal: 1m 59s\tremaining: 54.7s\n",
      "685:\tlearn: 0.2864420\ttotal: 1m 59s\tremaining: 54.6s\n",
      "686:\tlearn: 0.2864270\ttotal: 1m 59s\tremaining: 54.4s\n",
      "687:\tlearn: 0.2864035\ttotal: 1m 59s\tremaining: 54.2s\n",
      "688:\tlearn: 0.2863893\ttotal: 1m 59s\tremaining: 54s\n",
      "689:\tlearn: 0.2863674\ttotal: 1m 59s\tremaining: 53.9s\n",
      "690:\tlearn: 0.2863490\ttotal: 2m\tremaining: 53.7s\n",
      "691:\tlearn: 0.2863370\ttotal: 2m\tremaining: 53.5s\n",
      "692:\tlearn: 0.2863151\ttotal: 2m\tremaining: 53.3s\n",
      "693:\tlearn: 0.2862956\ttotal: 2m\tremaining: 53.2s\n",
      "694:\tlearn: 0.2862739\ttotal: 2m\tremaining: 53s\n",
      "695:\tlearn: 0.2862539\ttotal: 2m\tremaining: 52.8s\n",
      "696:\tlearn: 0.2862384\ttotal: 2m 1s\tremaining: 52.7s\n",
      "697:\tlearn: 0.2862178\ttotal: 2m 1s\tremaining: 52.5s\n",
      "698:\tlearn: 0.2861994\ttotal: 2m 1s\tremaining: 52.3s\n",
      "699:\tlearn: 0.2861833\ttotal: 2m 1s\tremaining: 52.2s\n",
      "700:\tlearn: 0.2861641\ttotal: 2m 2s\tremaining: 52.1s\n",
      "701:\tlearn: 0.2861385\ttotal: 2m 2s\tremaining: 51.9s\n",
      "702:\tlearn: 0.2861223\ttotal: 2m 2s\tremaining: 51.7s\n",
      "703:\tlearn: 0.2861054\ttotal: 2m 2s\tremaining: 51.6s\n",
      "704:\tlearn: 0.2860903\ttotal: 2m 2s\tremaining: 51.4s\n",
      "705:\tlearn: 0.2860721\ttotal: 2m 3s\tremaining: 51.2s\n",
      "706:\tlearn: 0.2860585\ttotal: 2m 3s\tremaining: 51.1s\n",
      "707:\tlearn: 0.2860432\ttotal: 2m 3s\tremaining: 50.9s\n",
      "708:\tlearn: 0.2860273\ttotal: 2m 3s\tremaining: 50.7s\n",
      "709:\tlearn: 0.2860054\ttotal: 2m 3s\tremaining: 50.5s\n",
      "710:\tlearn: 0.2859952\ttotal: 2m 3s\tremaining: 50.4s\n",
      "711:\tlearn: 0.2859811\ttotal: 2m 4s\tremaining: 50.2s\n",
      "712:\tlearn: 0.2859636\ttotal: 2m 4s\tremaining: 50s\n",
      "713:\tlearn: 0.2859501\ttotal: 2m 4s\tremaining: 49.9s\n",
      "714:\tlearn: 0.2859339\ttotal: 2m 4s\tremaining: 49.7s\n",
      "715:\tlearn: 0.2859166\ttotal: 2m 4s\tremaining: 49.5s\n",
      "716:\tlearn: 0.2858991\ttotal: 2m 5s\tremaining: 49.4s\n",
      "717:\tlearn: 0.2858825\ttotal: 2m 5s\tremaining: 49.2s\n",
      "718:\tlearn: 0.2858698\ttotal: 2m 5s\tremaining: 49s\n",
      "719:\tlearn: 0.2858526\ttotal: 2m 5s\tremaining: 48.9s\n",
      "720:\tlearn: 0.2858454\ttotal: 2m 5s\tremaining: 48.7s\n",
      "721:\tlearn: 0.2858246\ttotal: 2m 5s\tremaining: 48.5s\n",
      "722:\tlearn: 0.2858087\ttotal: 2m 6s\tremaining: 48.3s\n",
      "723:\tlearn: 0.2857969\ttotal: 2m 6s\tremaining: 48.1s\n",
      "724:\tlearn: 0.2857783\ttotal: 2m 6s\tremaining: 48s\n",
      "725:\tlearn: 0.2857688\ttotal: 2m 6s\tremaining: 47.8s\n",
      "726:\tlearn: 0.2857514\ttotal: 2m 6s\tremaining: 47.6s\n",
      "727:\tlearn: 0.2857366\ttotal: 2m 6s\tremaining: 47.4s\n",
      "728:\tlearn: 0.2857348\ttotal: 2m 7s\tremaining: 47.3s\n",
      "729:\tlearn: 0.2857170\ttotal: 2m 7s\tremaining: 47.1s\n",
      "730:\tlearn: 0.2857038\ttotal: 2m 7s\tremaining: 46.9s\n",
      "731:\tlearn: 0.2856911\ttotal: 2m 7s\tremaining: 46.7s\n",
      "732:\tlearn: 0.2856756\ttotal: 2m 7s\tremaining: 46.6s\n",
      "733:\tlearn: 0.2856579\ttotal: 2m 8s\tremaining: 46.4s\n",
      "734:\tlearn: 0.2856435\ttotal: 2m 8s\tremaining: 46.2s\n",
      "735:\tlearn: 0.2856309\ttotal: 2m 8s\tremaining: 46s\n",
      "736:\tlearn: 0.2856170\ttotal: 2m 8s\tremaining: 45.9s\n",
      "737:\tlearn: 0.2856046\ttotal: 2m 8s\tremaining: 45.7s\n",
      "738:\tlearn: 0.2855963\ttotal: 2m 8s\tremaining: 45.5s\n",
      "739:\tlearn: 0.2855813\ttotal: 2m 9s\tremaining: 45.3s\n",
      "740:\tlearn: 0.2855648\ttotal: 2m 9s\tremaining: 45.2s\n",
      "741:\tlearn: 0.2855505\ttotal: 2m 9s\tremaining: 45s\n",
      "742:\tlearn: 0.2855404\ttotal: 2m 9s\tremaining: 44.8s\n",
      "743:\tlearn: 0.2855219\ttotal: 2m 9s\tremaining: 44.6s\n",
      "744:\tlearn: 0.2855150\ttotal: 2m 9s\tremaining: 44.5s\n",
      "745:\tlearn: 0.2855002\ttotal: 2m 10s\tremaining: 44.3s\n",
      "746:\tlearn: 0.2854837\ttotal: 2m 10s\tremaining: 44.1s\n",
      "747:\tlearn: 0.2854718\ttotal: 2m 10s\tremaining: 43.9s\n",
      "748:\tlearn: 0.2854543\ttotal: 2m 10s\tremaining: 43.8s\n",
      "749:\tlearn: 0.2854398\ttotal: 2m 10s\tremaining: 43.6s\n",
      "750:\tlearn: 0.2854268\ttotal: 2m 10s\tremaining: 43.4s\n",
      "751:\tlearn: 0.2854156\ttotal: 2m 11s\tremaining: 43.2s\n",
      "752:\tlearn: 0.2853991\ttotal: 2m 11s\tremaining: 43.1s\n",
      "753:\tlearn: 0.2853796\ttotal: 2m 11s\tremaining: 42.9s\n",
      "754:\tlearn: 0.2853661\ttotal: 2m 11s\tremaining: 42.7s\n",
      "755:\tlearn: 0.2853623\ttotal: 2m 11s\tremaining: 42.6s\n",
      "756:\tlearn: 0.2853487\ttotal: 2m 12s\tremaining: 42.4s\n",
      "757:\tlearn: 0.2853416\ttotal: 2m 12s\tremaining: 42.2s\n",
      "758:\tlearn: 0.2853276\ttotal: 2m 12s\tremaining: 42.1s\n",
      "759:\tlearn: 0.2853089\ttotal: 2m 12s\tremaining: 41.9s\n",
      "760:\tlearn: 0.2852963\ttotal: 2m 12s\tremaining: 41.7s\n",
      "761:\tlearn: 0.2852824\ttotal: 2m 13s\tremaining: 41.6s\n",
      "762:\tlearn: 0.2852698\ttotal: 2m 13s\tremaining: 41.4s\n",
      "763:\tlearn: 0.2852507\ttotal: 2m 13s\tremaining: 41.2s\n",
      "764:\tlearn: 0.2852325\ttotal: 2m 13s\tremaining: 41.1s\n",
      "765:\tlearn: 0.2852175\ttotal: 2m 13s\tremaining: 40.9s\n",
      "766:\tlearn: 0.2852042\ttotal: 2m 14s\tremaining: 40.7s\n",
      "767:\tlearn: 0.2851913\ttotal: 2m 14s\tremaining: 40.6s\n",
      "768:\tlearn: 0.2851761\ttotal: 2m 14s\tremaining: 40.4s\n",
      "769:\tlearn: 0.2851591\ttotal: 2m 14s\tremaining: 40.3s\n",
      "770:\tlearn: 0.2851354\ttotal: 2m 14s\tremaining: 40.1s\n",
      "771:\tlearn: 0.2851163\ttotal: 2m 15s\tremaining: 39.9s\n",
      "772:\tlearn: 0.2850971\ttotal: 2m 15s\tremaining: 39.8s\n",
      "773:\tlearn: 0.2850818\ttotal: 2m 15s\tremaining: 39.6s\n",
      "774:\tlearn: 0.2850695\ttotal: 2m 15s\tremaining: 39.4s\n",
      "775:\tlearn: 0.2850502\ttotal: 2m 16s\tremaining: 39.3s\n",
      "776:\tlearn: 0.2850358\ttotal: 2m 16s\tremaining: 39.2s\n",
      "777:\tlearn: 0.2850183\ttotal: 2m 16s\tremaining: 39s\n",
      "778:\tlearn: 0.2850080\ttotal: 2m 17s\tremaining: 38.9s\n",
      "779:\tlearn: 0.2849913\ttotal: 2m 17s\tremaining: 38.7s\n",
      "780:\tlearn: 0.2849734\ttotal: 2m 17s\tremaining: 38.5s\n",
      "781:\tlearn: 0.2849646\ttotal: 2m 17s\tremaining: 38.3s\n"
     ]
    },
    {
     "name": "stdout",
     "output_type": "stream",
     "text": [
      "782:\tlearn: 0.2849468\ttotal: 2m 17s\tremaining: 38.1s\n",
      "783:\tlearn: 0.2849322\ttotal: 2m 17s\tremaining: 38s\n",
      "784:\tlearn: 0.2849259\ttotal: 2m 18s\tremaining: 37.8s\n",
      "785:\tlearn: 0.2849121\ttotal: 2m 18s\tremaining: 37.6s\n",
      "786:\tlearn: 0.2848969\ttotal: 2m 18s\tremaining: 37.4s\n",
      "787:\tlearn: 0.2848853\ttotal: 2m 18s\tremaining: 37.3s\n",
      "788:\tlearn: 0.2848738\ttotal: 2m 18s\tremaining: 37.1s\n",
      "789:\tlearn: 0.2848588\ttotal: 2m 18s\tremaining: 36.9s\n",
      "790:\tlearn: 0.2848456\ttotal: 2m 18s\tremaining: 36.7s\n",
      "791:\tlearn: 0.2848367\ttotal: 2m 18s\tremaining: 36.5s\n",
      "792:\tlearn: 0.2848229\ttotal: 2m 19s\tremaining: 36.3s\n",
      "793:\tlearn: 0.2848140\ttotal: 2m 19s\tremaining: 36.1s\n",
      "794:\tlearn: 0.2847993\ttotal: 2m 19s\tremaining: 35.9s\n",
      "795:\tlearn: 0.2847792\ttotal: 2m 19s\tremaining: 35.8s\n",
      "796:\tlearn: 0.2847616\ttotal: 2m 19s\tremaining: 35.6s\n",
      "797:\tlearn: 0.2847389\ttotal: 2m 19s\tremaining: 35.4s\n",
      "798:\tlearn: 0.2847208\ttotal: 2m 19s\tremaining: 35.2s\n",
      "799:\tlearn: 0.2847045\ttotal: 2m 20s\tremaining: 35s\n",
      "800:\tlearn: 0.2846967\ttotal: 2m 20s\tremaining: 34.8s\n",
      "801:\tlearn: 0.2846898\ttotal: 2m 20s\tremaining: 34.6s\n",
      "802:\tlearn: 0.2846729\ttotal: 2m 20s\tremaining: 34.5s\n",
      "803:\tlearn: 0.2846559\ttotal: 2m 20s\tremaining: 34.3s\n",
      "804:\tlearn: 0.2846481\ttotal: 2m 20s\tremaining: 34.1s\n",
      "805:\tlearn: 0.2846297\ttotal: 2m 20s\tremaining: 33.9s\n",
      "806:\tlearn: 0.2846154\ttotal: 2m 20s\tremaining: 33.7s\n",
      "807:\tlearn: 0.2845972\ttotal: 2m 21s\tremaining: 33.5s\n",
      "808:\tlearn: 0.2845727\ttotal: 2m 21s\tremaining: 33.3s\n",
      "809:\tlearn: 0.2845563\ttotal: 2m 21s\tremaining: 33.2s\n",
      "810:\tlearn: 0.2845469\ttotal: 2m 21s\tremaining: 33s\n",
      "811:\tlearn: 0.2845318\ttotal: 2m 21s\tremaining: 32.8s\n",
      "812:\tlearn: 0.2845118\ttotal: 2m 21s\tremaining: 32.6s\n",
      "813:\tlearn: 0.2844943\ttotal: 2m 21s\tremaining: 32.4s\n",
      "814:\tlearn: 0.2844782\ttotal: 2m 22s\tremaining: 32.2s\n",
      "815:\tlearn: 0.2844682\ttotal: 2m 22s\tremaining: 32.1s\n",
      "816:\tlearn: 0.2844512\ttotal: 2m 22s\tremaining: 31.9s\n",
      "817:\tlearn: 0.2844342\ttotal: 2m 22s\tremaining: 31.7s\n",
      "818:\tlearn: 0.2844242\ttotal: 2m 22s\tremaining: 31.5s\n",
      "819:\tlearn: 0.2844091\ttotal: 2m 22s\tremaining: 31.3s\n",
      "820:\tlearn: 0.2843952\ttotal: 2m 22s\tremaining: 31.1s\n",
      "821:\tlearn: 0.2843772\ttotal: 2m 22s\tremaining: 31s\n",
      "822:\tlearn: 0.2843666\ttotal: 2m 23s\tremaining: 30.8s\n",
      "823:\tlearn: 0.2843536\ttotal: 2m 23s\tremaining: 30.6s\n",
      "824:\tlearn: 0.2843372\ttotal: 2m 23s\tremaining: 30.4s\n",
      "825:\tlearn: 0.2843237\ttotal: 2m 23s\tremaining: 30.2s\n",
      "826:\tlearn: 0.2843087\ttotal: 2m 23s\tremaining: 30s\n",
      "827:\tlearn: 0.2842947\ttotal: 2m 23s\tremaining: 29.9s\n",
      "828:\tlearn: 0.2842833\ttotal: 2m 23s\tremaining: 29.7s\n",
      "829:\tlearn: 0.2842724\ttotal: 2m 24s\tremaining: 29.5s\n",
      "830:\tlearn: 0.2842581\ttotal: 2m 24s\tremaining: 29.3s\n",
      "831:\tlearn: 0.2842426\ttotal: 2m 24s\tremaining: 29.1s\n",
      "832:\tlearn: 0.2842292\ttotal: 2m 24s\tremaining: 29s\n",
      "833:\tlearn: 0.2842149\ttotal: 2m 24s\tremaining: 28.8s\n",
      "834:\tlearn: 0.2842095\ttotal: 2m 24s\tremaining: 28.6s\n",
      "835:\tlearn: 0.2841989\ttotal: 2m 24s\tremaining: 28.4s\n",
      "836:\tlearn: 0.2841848\ttotal: 2m 24s\tremaining: 28.2s\n",
      "837:\tlearn: 0.2841705\ttotal: 2m 25s\tremaining: 28s\n",
      "838:\tlearn: 0.2841552\ttotal: 2m 25s\tremaining: 27.9s\n",
      "839:\tlearn: 0.2841404\ttotal: 2m 25s\tremaining: 27.7s\n",
      "840:\tlearn: 0.2841299\ttotal: 2m 25s\tremaining: 27.5s\n",
      "841:\tlearn: 0.2841140\ttotal: 2m 25s\tremaining: 27.3s\n",
      "842:\tlearn: 0.2840977\ttotal: 2m 25s\tremaining: 27.1s\n",
      "843:\tlearn: 0.2840884\ttotal: 2m 25s\tremaining: 27s\n",
      "844:\tlearn: 0.2840742\ttotal: 2m 25s\tremaining: 26.8s\n",
      "845:\tlearn: 0.2840522\ttotal: 2m 26s\tremaining: 26.6s\n",
      "846:\tlearn: 0.2840357\ttotal: 2m 26s\tremaining: 26.4s\n",
      "847:\tlearn: 0.2840213\ttotal: 2m 26s\tremaining: 26.2s\n",
      "848:\tlearn: 0.2840059\ttotal: 2m 26s\tremaining: 26.1s\n",
      "849:\tlearn: 0.2839887\ttotal: 2m 26s\tremaining: 25.9s\n",
      "850:\tlearn: 0.2839755\ttotal: 2m 26s\tremaining: 25.7s\n",
      "851:\tlearn: 0.2839570\ttotal: 2m 26s\tremaining: 25.5s\n",
      "852:\tlearn: 0.2839379\ttotal: 2m 27s\tremaining: 25.3s\n",
      "853:\tlearn: 0.2839240\ttotal: 2m 27s\tremaining: 25.2s\n",
      "854:\tlearn: 0.2839115\ttotal: 2m 27s\tremaining: 25s\n",
      "855:\tlearn: 0.2838995\ttotal: 2m 27s\tremaining: 24.8s\n",
      "856:\tlearn: 0.2838788\ttotal: 2m 27s\tremaining: 24.6s\n",
      "857:\tlearn: 0.2838593\ttotal: 2m 27s\tremaining: 24.4s\n",
      "858:\tlearn: 0.2838420\ttotal: 2m 27s\tremaining: 24.3s\n",
      "859:\tlearn: 0.2838273\ttotal: 2m 27s\tremaining: 24.1s\n",
      "860:\tlearn: 0.2838040\ttotal: 2m 28s\tremaining: 23.9s\n",
      "861:\tlearn: 0.2837944\ttotal: 2m 28s\tremaining: 23.7s\n",
      "862:\tlearn: 0.2837800\ttotal: 2m 28s\tremaining: 23.6s\n",
      "863:\tlearn: 0.2837686\ttotal: 2m 28s\tremaining: 23.4s\n",
      "864:\tlearn: 0.2837524\ttotal: 2m 28s\tremaining: 23.2s\n",
      "865:\tlearn: 0.2837404\ttotal: 2m 28s\tremaining: 23s\n",
      "866:\tlearn: 0.2837282\ttotal: 2m 28s\tremaining: 22.9s\n",
      "867:\tlearn: 0.2837111\ttotal: 2m 29s\tremaining: 22.7s\n",
      "868:\tlearn: 0.2836943\ttotal: 2m 29s\tremaining: 22.5s\n",
      "869:\tlearn: 0.2836824\ttotal: 2m 29s\tremaining: 22.3s\n",
      "870:\tlearn: 0.2836667\ttotal: 2m 29s\tremaining: 22.2s\n",
      "871:\tlearn: 0.2836570\ttotal: 2m 29s\tremaining: 22s\n",
      "872:\tlearn: 0.2836378\ttotal: 2m 29s\tremaining: 21.8s\n",
      "873:\tlearn: 0.2836253\ttotal: 2m 30s\tremaining: 21.7s\n",
      "874:\tlearn: 0.2836108\ttotal: 2m 30s\tremaining: 21.5s\n",
      "875:\tlearn: 0.2835974\ttotal: 2m 30s\tremaining: 21.3s\n",
      "876:\tlearn: 0.2835865\ttotal: 2m 30s\tremaining: 21.2s\n",
      "877:\tlearn: 0.2835677\ttotal: 2m 31s\tremaining: 21s\n",
      "878:\tlearn: 0.2835534\ttotal: 2m 31s\tremaining: 20.8s\n",
      "879:\tlearn: 0.2835388\ttotal: 2m 31s\tremaining: 20.7s\n",
      "880:\tlearn: 0.2835336\ttotal: 2m 31s\tremaining: 20.5s\n",
      "881:\tlearn: 0.2835206\ttotal: 2m 31s\tremaining: 20.3s\n",
      "882:\tlearn: 0.2835071\ttotal: 2m 32s\tremaining: 20.2s\n",
      "883:\tlearn: 0.2834918\ttotal: 2m 32s\tremaining: 20s\n",
      "884:\tlearn: 0.2834765\ttotal: 2m 32s\tremaining: 19.8s\n",
      "885:\tlearn: 0.2834590\ttotal: 2m 32s\tremaining: 19.6s\n",
      "886:\tlearn: 0.2834426\ttotal: 2m 32s\tremaining: 19.5s\n",
      "887:\tlearn: 0.2834199\ttotal: 2m 32s\tremaining: 19.3s\n",
      "888:\tlearn: 0.2834081\ttotal: 2m 33s\tremaining: 19.1s\n",
      "889:\tlearn: 0.2833866\ttotal: 2m 33s\tremaining: 18.9s\n",
      "890:\tlearn: 0.2833729\ttotal: 2m 33s\tremaining: 18.8s\n",
      "891:\tlearn: 0.2833526\ttotal: 2m 33s\tremaining: 18.6s\n",
      "892:\tlearn: 0.2833385\ttotal: 2m 33s\tremaining: 18.4s\n",
      "893:\tlearn: 0.2833257\ttotal: 2m 33s\tremaining: 18.3s\n",
      "894:\tlearn: 0.2833085\ttotal: 2m 34s\tremaining: 18.1s\n",
      "895:\tlearn: 0.2832934\ttotal: 2m 34s\tremaining: 17.9s\n",
      "896:\tlearn: 0.2832846\ttotal: 2m 34s\tremaining: 17.7s\n",
      "897:\tlearn: 0.2832665\ttotal: 2m 34s\tremaining: 17.6s\n",
      "898:\tlearn: 0.2832518\ttotal: 2m 34s\tremaining: 17.4s\n",
      "899:\tlearn: 0.2832362\ttotal: 2m 34s\tremaining: 17.2s\n",
      "900:\tlearn: 0.2832190\ttotal: 2m 35s\tremaining: 17s\n",
      "901:\tlearn: 0.2832069\ttotal: 2m 35s\tremaining: 16.9s\n",
      "902:\tlearn: 0.2831992\ttotal: 2m 35s\tremaining: 16.7s\n",
      "903:\tlearn: 0.2831856\ttotal: 2m 35s\tremaining: 16.5s\n",
      "904:\tlearn: 0.2831726\ttotal: 2m 36s\tremaining: 16.4s\n",
      "905:\tlearn: 0.2831594\ttotal: 2m 36s\tremaining: 16.2s\n",
      "906:\tlearn: 0.2831384\ttotal: 2m 36s\tremaining: 16.1s\n",
      "907:\tlearn: 0.2831244\ttotal: 2m 36s\tremaining: 15.9s\n",
      "908:\tlearn: 0.2831094\ttotal: 2m 37s\tremaining: 15.7s\n",
      "909:\tlearn: 0.2830937\ttotal: 2m 37s\tremaining: 15.6s\n",
      "910:\tlearn: 0.2830791\ttotal: 2m 37s\tremaining: 15.4s\n",
      "911:\tlearn: 0.2830676\ttotal: 2m 37s\tremaining: 15.2s\n",
      "912:\tlearn: 0.2830581\ttotal: 2m 37s\tremaining: 15s\n",
      "913:\tlearn: 0.2830403\ttotal: 2m 38s\tremaining: 14.9s\n",
      "914:\tlearn: 0.2830327\ttotal: 2m 38s\tremaining: 14.7s\n",
      "915:\tlearn: 0.2830177\ttotal: 2m 38s\tremaining: 14.5s\n",
      "916:\tlearn: 0.2830042\ttotal: 2m 38s\tremaining: 14.3s\n",
      "917:\tlearn: 0.2829978\ttotal: 2m 38s\tremaining: 14.2s\n",
      "918:\tlearn: 0.2829880\ttotal: 2m 38s\tremaining: 14s\n",
      "919:\tlearn: 0.2829723\ttotal: 2m 38s\tremaining: 13.8s\n",
      "920:\tlearn: 0.2829478\ttotal: 2m 38s\tremaining: 13.6s\n",
      "921:\tlearn: 0.2829334\ttotal: 2m 39s\tremaining: 13.5s\n",
      "922:\tlearn: 0.2829224\ttotal: 2m 39s\tremaining: 13.3s\n",
      "923:\tlearn: 0.2829118\ttotal: 2m 39s\tremaining: 13.1s\n",
      "924:\tlearn: 0.2829006\ttotal: 2m 39s\tremaining: 12.9s\n",
      "925:\tlearn: 0.2828872\ttotal: 2m 39s\tremaining: 12.7s\n",
      "926:\tlearn: 0.2828687\ttotal: 2m 39s\tremaining: 12.6s\n",
      "927:\tlearn: 0.2828526\ttotal: 2m 39s\tremaining: 12.4s\n",
      "928:\tlearn: 0.2828406\ttotal: 2m 39s\tremaining: 12.2s\n",
      "929:\tlearn: 0.2828274\ttotal: 2m 40s\tremaining: 12s\n",
      "930:\tlearn: 0.2828039\ttotal: 2m 40s\tremaining: 11.9s\n",
      "931:\tlearn: 0.2827826\ttotal: 2m 40s\tremaining: 11.7s\n",
      "932:\tlearn: 0.2827607\ttotal: 2m 40s\tremaining: 11.5s\n",
      "933:\tlearn: 0.2827536\ttotal: 2m 40s\tremaining: 11.3s\n",
      "934:\tlearn: 0.2827314\ttotal: 2m 40s\tremaining: 11.2s\n",
      "935:\tlearn: 0.2827128\ttotal: 2m 40s\tremaining: 11s\n",
      "936:\tlearn: 0.2826962\ttotal: 2m 41s\tremaining: 10.8s\n",
      "937:\tlearn: 0.2826829\ttotal: 2m 41s\tremaining: 10.7s\n",
      "938:\tlearn: 0.2826631\ttotal: 2m 41s\tremaining: 10.5s\n"
     ]
    },
    {
     "name": "stdout",
     "output_type": "stream",
     "text": [
      "939:\tlearn: 0.2826447\ttotal: 2m 41s\tremaining: 10.3s\n",
      "940:\tlearn: 0.2826298\ttotal: 2m 41s\tremaining: 10.1s\n",
      "941:\tlearn: 0.2826130\ttotal: 2m 41s\tremaining: 9.96s\n",
      "942:\tlearn: 0.2825972\ttotal: 2m 41s\tremaining: 9.78s\n",
      "943:\tlearn: 0.2825898\ttotal: 2m 41s\tremaining: 9.61s\n",
      "944:\tlearn: 0.2825772\ttotal: 2m 42s\tremaining: 9.43s\n",
      "945:\tlearn: 0.2825665\ttotal: 2m 42s\tremaining: 9.26s\n",
      "946:\tlearn: 0.2825555\ttotal: 2m 42s\tremaining: 9.09s\n",
      "947:\tlearn: 0.2825422\ttotal: 2m 42s\tremaining: 8.91s\n",
      "948:\tlearn: 0.2825327\ttotal: 2m 42s\tremaining: 8.74s\n",
      "949:\tlearn: 0.2825150\ttotal: 2m 42s\tremaining: 8.56s\n",
      "950:\tlearn: 0.2825020\ttotal: 2m 42s\tremaining: 8.39s\n",
      "951:\tlearn: 0.2824825\ttotal: 2m 42s\tremaining: 8.22s\n",
      "952:\tlearn: 0.2824668\ttotal: 2m 43s\tremaining: 8.04s\n",
      "953:\tlearn: 0.2824617\ttotal: 2m 43s\tremaining: 7.87s\n",
      "954:\tlearn: 0.2824492\ttotal: 2m 43s\tremaining: 7.7s\n",
      "955:\tlearn: 0.2824343\ttotal: 2m 43s\tremaining: 7.53s\n",
      "956:\tlearn: 0.2824168\ttotal: 2m 43s\tremaining: 7.35s\n",
      "957:\tlearn: 0.2824037\ttotal: 2m 43s\tremaining: 7.18s\n",
      "958:\tlearn: 0.2823844\ttotal: 2m 43s\tremaining: 7.01s\n",
      "959:\tlearn: 0.2823737\ttotal: 2m 44s\tremaining: 6.83s\n",
      "960:\tlearn: 0.2823571\ttotal: 2m 44s\tremaining: 6.66s\n",
      "961:\tlearn: 0.2823415\ttotal: 2m 44s\tremaining: 6.49s\n",
      "962:\tlearn: 0.2823213\ttotal: 2m 44s\tremaining: 6.32s\n",
      "963:\tlearn: 0.2823066\ttotal: 2m 44s\tremaining: 6.14s\n",
      "964:\tlearn: 0.2822883\ttotal: 2m 44s\tremaining: 5.97s\n",
      "965:\tlearn: 0.2822635\ttotal: 2m 44s\tremaining: 5.8s\n",
      "966:\tlearn: 0.2822434\ttotal: 2m 44s\tremaining: 5.63s\n",
      "967:\tlearn: 0.2822388\ttotal: 2m 45s\tremaining: 5.46s\n",
      "968:\tlearn: 0.2822324\ttotal: 2m 45s\tremaining: 5.29s\n",
      "969:\tlearn: 0.2822208\ttotal: 2m 45s\tremaining: 5.11s\n",
      "970:\tlearn: 0.2822087\ttotal: 2m 45s\tremaining: 4.94s\n",
      "971:\tlearn: 0.2821869\ttotal: 2m 45s\tremaining: 4.77s\n",
      "972:\tlearn: 0.2821756\ttotal: 2m 45s\tremaining: 4.6s\n",
      "973:\tlearn: 0.2821610\ttotal: 2m 45s\tremaining: 4.43s\n",
      "974:\tlearn: 0.2821491\ttotal: 2m 46s\tremaining: 4.26s\n",
      "975:\tlearn: 0.2821327\ttotal: 2m 46s\tremaining: 4.08s\n",
      "976:\tlearn: 0.2821175\ttotal: 2m 46s\tremaining: 3.91s\n",
      "977:\tlearn: 0.2820961\ttotal: 2m 46s\tremaining: 3.74s\n",
      "978:\tlearn: 0.2820859\ttotal: 2m 46s\tremaining: 3.57s\n",
      "979:\tlearn: 0.2820680\ttotal: 2m 46s\tremaining: 3.4s\n",
      "980:\tlearn: 0.2820501\ttotal: 2m 46s\tremaining: 3.23s\n",
      "981:\tlearn: 0.2820394\ttotal: 2m 46s\tremaining: 3.06s\n",
      "982:\tlearn: 0.2820250\ttotal: 2m 47s\tremaining: 2.89s\n",
      "983:\tlearn: 0.2820057\ttotal: 2m 47s\tremaining: 2.72s\n",
      "984:\tlearn: 0.2819923\ttotal: 2m 47s\tremaining: 2.55s\n",
      "985:\tlearn: 0.2819815\ttotal: 2m 47s\tremaining: 2.38s\n",
      "986:\tlearn: 0.2819679\ttotal: 2m 47s\tremaining: 2.21s\n",
      "987:\tlearn: 0.2819529\ttotal: 2m 47s\tremaining: 2.04s\n",
      "988:\tlearn: 0.2819384\ttotal: 2m 47s\tremaining: 1.87s\n",
      "989:\tlearn: 0.2819259\ttotal: 2m 47s\tremaining: 1.7s\n",
      "990:\tlearn: 0.2819110\ttotal: 2m 48s\tremaining: 1.53s\n",
      "991:\tlearn: 0.2818947\ttotal: 2m 48s\tremaining: 1.36s\n",
      "992:\tlearn: 0.2818822\ttotal: 2m 48s\tremaining: 1.19s\n",
      "993:\tlearn: 0.2818630\ttotal: 2m 48s\tremaining: 1.02s\n",
      "994:\tlearn: 0.2818482\ttotal: 2m 48s\tremaining: 848ms\n",
      "995:\tlearn: 0.2818368\ttotal: 2m 48s\tremaining: 678ms\n",
      "996:\tlearn: 0.2818276\ttotal: 2m 48s\tremaining: 508ms\n",
      "997:\tlearn: 0.2818132\ttotal: 2m 49s\tremaining: 339ms\n",
      "998:\tlearn: 0.2817906\ttotal: 2m 49s\tremaining: 169ms\n",
      "999:\tlearn: 0.2817727\ttotal: 2m 49s\tremaining: 0us\n"
     ]
    }
   ],
   "source": [
    "import catboost as ctb\n",
    "from catboost import CatBoostClassifier\n",
    "\n",
    "catboost = CatBoostClassifier()\n",
    "ctb = catboost.fit(x_train, y_train)\n",
    "y_pred = ctb.predict(x_test);"
   ]
  },
  {
   "cell_type": "code",
   "execution_count": 103,
   "id": "b206bb53",
   "metadata": {},
   "outputs": [],
   "source": [
    "predictions = ctb.predict(x_test)"
   ]
  },
  {
   "cell_type": "code",
   "execution_count": 104,
   "id": "0c424f95",
   "metadata": {},
   "outputs": [
    {
     "data": {
      "text/plain": [
       "array([0, 0, 0, ..., 0, 0, 0], dtype=int64)"
      ]
     },
     "execution_count": 104,
     "metadata": {},
     "output_type": "execute_result"
    }
   ],
   "source": [
    "predictions"
   ]
  },
  {
   "cell_type": "code",
   "execution_count": 105,
   "id": "be90b49e",
   "metadata": {},
   "outputs": [],
   "source": [
    "prob = ctb.predict_proba(x_test)"
   ]
  },
  {
   "cell_type": "code",
   "execution_count": 106,
   "id": "0872543e",
   "metadata": {},
   "outputs": [
    {
     "name": "stdout",
     "output_type": "stream",
     "text": [
      "              precision    recall  f1-score   support\n",
      "\n",
      "           0       0.90      0.93      0.92     97450\n",
      "           1       0.65      0.55      0.60     22550\n",
      "\n",
      "    accuracy                           0.86    120000\n",
      "   macro avg       0.78      0.74      0.76    120000\n",
      "weighted avg       0.85      0.86      0.86    120000\n",
      "\n"
     ]
    }
   ],
   "source": [
    "print(classification_report(y_test,predictions))"
   ]
  },
  {
   "cell_type": "code",
   "execution_count": null,
   "id": "6e40a277",
   "metadata": {},
   "outputs": [],
   "source": []
  }
 ],
 "metadata": {
  "kernelspec": {
   "display_name": "Python 3 (ipykernel)",
   "language": "python",
   "name": "python3"
  },
  "language_info": {
   "codemirror_mode": {
    "name": "ipython",
    "version": 3
   },
   "file_extension": ".py",
   "mimetype": "text/x-python",
   "name": "python",
   "nbconvert_exporter": "python",
   "pygments_lexer": "ipython3",
   "version": "3.9.7"
  }
 },
 "nbformat": 4,
 "nbformat_minor": 5
}
